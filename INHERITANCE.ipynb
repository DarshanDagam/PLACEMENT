{
 "cells": [
  {
   "cell_type": "code",
   "execution_count": 3,
   "id": "f7de30ae-0a3c-43ff-a289-1528f31068bd",
   "metadata": {},
   "outputs": [
    {
     "name": "stdout",
     "output_type": "stream",
     "text": [
      "HELLOW FROM PARENT.....\n"
     ]
    }
   ],
   "source": [
    "#SINGLE INHERITANCE\n",
    "class Parent:\n",
    "     def greet(self):\n",
    "         print(\"HELLOW FROM PARENT.....\")\n",
    "class Child(Parent):\n",
    "     pass \n",
    "obj=Child()\n",
    "obj.greet()"
   ]
  },
  {
   "cell_type": "code",
   "execution_count": 7,
   "id": "873be641-ae17-4583-9f87-0b330663e43e",
   "metadata": {},
   "outputs": [
    {
     "name": "stdout",
     "output_type": "stream",
     "text": [
      "HELLOW FROM PARENT1.....\n",
      "HELLOW FROM PARENT2.....\n"
     ]
    }
   ],
   "source": [
    "#MULTIPLE CLASES\n",
    "class parent1:\n",
    "    def display1(self):\n",
    "        print(\"HELLOW FROM PARENT1.....\")\n",
    "class parent2:\n",
    "    def display2(self):\n",
    "        print(\"HELLOW FROM PARENT2.....\")\n",
    "class child(parent1,parent2):\n",
    "    pass\n",
    "    # def display2(self):\n",
    "    #     print(\"HELLOW FROM PARENT2.....\")\n",
    "obj=child()\n",
    "obj.display1()\n",
    "obj.display2()\n"
   ]
  },
  {
   "cell_type": "code",
   "execution_count": 8,
   "id": "4bb73a3b-3fde-4433-9069-1f068d08f454",
   "metadata": {},
   "outputs": [
    {
     "name": "stdout",
     "output_type": "stream",
     "text": [
      "HELLOW FROM GRAND PARENT1.......\n"
     ]
    }
   ],
   "source": [
    "#multilevel inheritance\n",
    "class Grandparent:\n",
    "    def display(self):\n",
    "        print(\"HELLOW FROM GRAND PARENT1.......\")\n",
    "class parent(Grandparent):\n",
    "    pass\n",
    "class child(parent):\n",
    "    pass \n",
    "obj=child()\n",
    "obj.display()\n",
    "        "
   ]
  },
  {
   "cell_type": "code",
   "execution_count": 9,
   "id": "6222c4a0-699d-4c43-aa5d-93bd1d0981d7",
   "metadata": {},
   "outputs": [
    {
     "name": "stdout",
     "output_type": "stream",
     "text": [
      "HELLOW FROM PARENT.....\n",
      "HELLOW FROM PARENT.....\n"
     ]
    }
   ],
   "source": [
    "#hirerarichal inheritance\n",
    "class Parent:\n",
    "    def display(self):\n",
    "        print(\"HELLOW FROM PARENT.....\")\n",
    "class Child1(Parent):\n",
    "    pass \n",
    "class Child2(Parent):\n",
    "    pass\n",
    "obj1=Child1()\n",
    "obj2=Child2()\n",
    "obj2.display()\n",
    "obj1.display()\n"
   ]
  },
  {
   "cell_type": "code",
   "execution_count": 10,
   "id": "34f931ea-509a-4d65-9b6b-2c5d7ac442df",
   "metadata": {},
   "outputs": [
    {
     "name": "stdout",
     "output_type": "stream",
     "text": [
      "HELLOW FROM A....\n"
     ]
    }
   ],
   "source": [
    "#HYBRD\n",
    "class A:\n",
    "    def display(self):\n",
    "        print(\"HELLOW FROM A....\")\n",
    "class B(A):\n",
    "    pass\n",
    "class C(A):\n",
    "    pass\n",
    "class D(B,C):\n",
    "    pass\n",
    "obj=D()\n",
    "obj.display()"
   ]
  },
  {
   "cell_type": "code",
   "execution_count": 12,
   "id": "2606bd18-196b-49a7-a27e-7b66d3ffe241",
   "metadata": {},
   "outputs": [
    {
     "name": "stdout",
     "output_type": "stream",
     "text": [
      "hellow child....\n",
      "hellow from parent....\n"
     ]
    }
   ],
   "source": [
    "#OVERRIDING \n",
    "class Parent:\n",
    "    def display(self):\n",
    "        print(\"hellow from parent....\")\n",
    "class child(Parent):\n",
    "     def display(self):\n",
    "        print(\"hellow child....\")\n",
    "        super().display()\n",
    "obj=child()\n",
    "obj.display()\n",
    "    "
   ]
  },
  {
   "cell_type": "code",
   "execution_count": 14,
   "id": "4c074ffb-117e-4aaf-9fa2-ebc54f0652e2",
   "metadata": {},
   "outputs": [
    {
     "name": "stdout",
     "output_type": "stream",
     "text": [
      "parent constructer.....!\n",
      "child constructer.....\n"
     ]
    }
   ],
   "source": [
    "class Parent:\n",
    "    def __init__(self):\n",
    "        print(\"parent constructer.....!\")\n",
    "class Child(Parent):\n",
    "    def __init__(self):\n",
    "        super().__init__()\n",
    "        print(\"child constructer.....\")\n",
    "obj=Child()"
   ]
  },
  {
   "cell_type": "code",
   "execution_count": 15,
   "id": "1d5b72e9-3124-4cca-a143-156745a3ccd7",
   "metadata": {},
   "outputs": [
    {
     "name": "stdout",
     "output_type": "stream",
     "text": [
      "[<class '__main__.D'>, <class '__main__.B'>, <class '__main__.C'>, <class '__main__.A'>, <class 'object'>]\n"
     ]
    }
   ],
   "source": [
    "class A:\n",
    "    pass \n",
    "class B(A):\n",
    "    pass\n",
    "class C(A):\n",
    "    pass \n",
    "class D(B,C):\n",
    "    pass\n",
    "print(D.mro())"
   ]
  },
  {
   "cell_type": "code",
   "execution_count": 20,
   "id": "4c9f3610-3e05-44f9-8272-afad8a079ccf",
   "metadata": {},
   "outputs": [
    {
     "name": "stdin",
     "output_type": "stream",
     "text": [
      " 55\n",
      " 55\n"
     ]
    },
    {
     "name": "stdout",
     "output_type": "stream",
     "text": [
      "the area of the rectangle is : 3025.0\n"
     ]
    }
   ],
   "source": [
    "##### shape inheritance\n",
    "class Shape:\n",
    "    def __init__(self,shape_type):\n",
    "        self.shape_type=shape_type\n",
    "    def get_area(self):\n",
    "        pass\n",
    "class Rectangle(Shape):\n",
    "    def __init__(self,length,breadth):\n",
    "        super().__init__(\"Rectangle\")\n",
    "        self.length=length\n",
    "        self.breadth=breadth\n",
    "    def get_area(self):\n",
    "        return self.length*self.breadth\n",
    "length=float(input())\n",
    "breadth=float(input())\n",
    "rectangle=Rectangle(length,breadth)\n",
    "print(f\"the area of the rectangle is : {rectangle.get_area()}\")\n",
    "        "
   ]
  },
  {
   "cell_type": "code",
   "execution_count": 23,
   "id": "2f6bdcc2-4332-4f44-bdbd-f80e34103751",
   "metadata": {},
   "outputs": [
    {
     "name": "stdin",
     "output_type": "stream",
     "text": [
      "enter your name=== DINESH\n",
      "enter your AGE=== 12\n",
      "enter your SALARY=== 1000\n",
      "BONUS== 10\n"
     ]
    },
    {
     "name": "stdout",
     "output_type": "stream",
     "text": [
      "Employee Name:DINESH\n",
      "age:12\n",
      "Salary:1000.0\n",
      "Bonus:10.0\n"
     ]
    }
   ],
   "source": [
    "class Employee:\n",
    "    def __init__(self,name,age,salary):\n",
    "        self.__name=name\n",
    "        self.__age=age\n",
    "        self.__salary=salary\n",
    "    def get_salary(self):\n",
    "        return self.__salary\n",
    "    def get_name(self):\n",
    "        return self.__name\n",
    "    def get_age(self):\n",
    "        return self.__age\n",
    "class Manager(Employee):\n",
    "    def __init__(self,name,age,salary,bonus):\n",
    "        super().__init__(name,age,salary)\n",
    "        self.__bonus=bonus\n",
    "    def get_bonus(self):\n",
    "        return self.__bonus\n",
    "name=input(\"enter your name===\")\n",
    "age=int(input(\"enter your AGE===\"))\n",
    "salary=float(input(\"enter your SALARY===\"))\n",
    "bonus=float(input(\"BONUS==\"))\n",
    "manager=Manager(name,age,salary,bonus)\n",
    "print(f\"Employee Name:{manager.get_name()}\\nage:{manager.get_age()}\\nSalary:{manager.get_salary()}\\nBonus:{manager.get_bonus()}\")"
   ]
  },
  {
   "cell_type": "code",
   "execution_count": null,
   "id": "e338009a-6d73-4da8-927d-00ee908b27aa",
   "metadata": {},
   "outputs": [],
   "source": []
  }
 ],
 "metadata": {
  "kernelspec": {
   "display_name": "Python 3 (ipykernel)",
   "language": "python",
   "name": "python3"
  },
  "language_info": {
   "codemirror_mode": {
    "name": "ipython",
    "version": 3
   },
   "file_extension": ".py",
   "mimetype": "text/x-python",
   "name": "python",
   "nbconvert_exporter": "python",
   "pygments_lexer": "ipython3",
   "version": "3.13.1"
  }
 },
 "nbformat": 4,
 "nbformat_minor": 5
}
