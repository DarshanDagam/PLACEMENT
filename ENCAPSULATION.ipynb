{
 "cells": [
  {
   "cell_type": "code",
   "execution_count": 19,
   "id": "1dc89645-bf0d-44e8-bf90-aa913c03a0de",
   "metadata": {},
   "outputs": [
    {
     "name": "stdout",
     "output_type": "stream",
     "text": [
      "I am public\n",
      "I am protected\n",
      "Iam private\n"
     ]
    }
   ],
   "source": [
    "class Example:\n",
    "    def __init__(self):\n",
    "        self.public_var=\"I am public\"\n",
    "        self._protected_var=\"I am protected\"\n",
    "        self.__private_var=\"Iam private\"\n",
    "    def  show_private(self):\n",
    "        return self.__private_var\n",
    "ex=Example()\n",
    "print(ex.public_var)\n",
    "print(ex._protected_var)\n",
    "print(ex.show_private())\n",
    "# print(a)"
   ]
  },
  {
   "cell_type": "code",
   "execution_count": 29,
   "id": "0bc28fd2-e237-4c0b-b837-e2b788723e53",
   "metadata": {},
   "outputs": [
    {
     "name": "stdout",
     "output_type": "stream",
     "text": [
      "account number:84660272706\n",
      "balance:63216569\n"
     ]
    }
   ],
   "source": [
    "class Account:\n",
    "    def __init__(self):\n",
    "        self.__account_no=None\n",
    "        self.__balance=0\n",
    "    def set_account_number(self,account_no):\n",
    "        self.__account_no=account_no\n",
    "    def get_account_number(self):\n",
    "        return self.__account_no\n",
    "    def set_balance(self,balance):\n",
    "        self.__balance=balance\n",
    "    def get_balance(self):\n",
    "        return self.__balance\n",
    "account=Account()\n",
    "account.set_account_number(\"84660272706\")\n",
    "account.set_balance(63216569)\n",
    "print(f\"account number:{account.get_account_number()}\")\n",
    "print(f\"balance:{account.get_balance()}\")"
   ]
  },
  {
   "cell_type": "code",
   "execution_count": 44,
   "id": "db5611b2-0f23-451a-8e4b-10df218c6f82",
   "metadata": {},
   "outputs": [
    {
     "name": "stdin",
     "output_type": "stream",
     "text": [
      "enter your name== hkyhkj\n",
      "enter balance== 1000\n",
      "enter your amount== 100\n"
     ]
    },
    {
     "name": "stdout",
     "output_type": "stream",
     "text": [
      "deposited amount:100\n",
      "new amount:1100\n",
      "withdrwa amount:100\n",
      "new amount:1000\n",
      "current balance=1000\n"
     ]
    }
   ],
   "source": [
    "account_holder=input(\"enter your name==\")\n",
    "balance=int(input(\"enter balance==\"))\n",
    "amount=int(input(\"enter your amount==\"))\n",
    "class Bankaccount:\n",
    "    def __init__(self,account_holder,balance=0):\n",
    "        self.__account_holder=account_holder\n",
    "        self.__balance=balance\n",
    "    def deposit(self,amount):\n",
    "        if amount>0:\n",
    "            self.__balance+=amount\n",
    "            print(f\"deposited amount:{amount}\")\n",
    "            print(f\"new amount:{self.__balance}\")\n",
    "        else:\n",
    "            print(\"INVALID DEPOSIT AMOUNT...!\")\n",
    "    def withdraw(self,amount):\n",
    "        if amount>0 and amount<=self.__balance:\n",
    "            self.__balance-=amount\n",
    "            print(f\"withdrwa amount:{amount}\")\n",
    "            print(f\"new amount:{self.__balance}\")\n",
    "        else:\n",
    "            print(\"insufficent balance...\")\n",
    "    def get_balance(self):\n",
    "        return self.__balance\n",
    "bc=Bankaccount(account_holder,balance)\n",
    "bc.deposit(amount)\n",
    "bc.withdraw(amount)\n",
    "print(f\"current balance={bc.get_balance()}\")\n",
    "\n",
    "            \n",
    "            \n",
    "\n",
    "        "
   ]
  },
  {
   "cell_type": "code",
   "execution_count": 64,
   "id": "3ccbef8a-4cc3-4b0d-9445-717692b0c066",
   "metadata": {},
   "outputs": [
    {
     "name": "stdout",
     "output_type": "stream",
     "text": [
      "CONTENT ADDED SUCCESFULLY...!\n",
      "CONTENT: instagram\n",
      "CONTENT: ACCES DENIED.....!\n"
     ]
    }
   ],
   "source": [
    "class Safebox:\n",
    "    def __init__(self):\n",
    "        self.__password=None\n",
    "        self.__content=None\n",
    "    def set_password(self,password):\n",
    "        self.__password=password\n",
    "    def set_content(self,password,content):\n",
    "        if password==self.__password:\n",
    "            self.__content=content\n",
    "            print(\"CONTENT ADDED SUCCESFULLY...!\")\n",
    "            # self.__password=password\n",
    "        else:\n",
    "            print(\"INCORECT PASSWORD.....!\")\n",
    "    def get_content(self,password):\n",
    "         \n",
    "        if password==self.__password:\n",
    "            return self.__content\n",
    "        else:\n",
    "            return \"ACCES DENIED.....!\"\n",
    "safe=Safebox()\n",
    "safe.set_password(\"84660272706\")\n",
    "safe.set_content(\"84660272706\",\"instagram\")\n",
    "print(\"CONTENT:\",safe.get_content(\"84660272706\"))\n",
    "print(\"CONTENT:\",safe.get_content(\"PASSWORD\"))"
   ]
  },
  {
   "cell_type": "code",
   "execution_count": 71,
   "id": "447d2006-1717-4dea-ad2c-d3f1f217cacf",
   "metadata": {},
   "outputs": [
    {
     "name": "stdout",
     "output_type": "stream",
     "text": [
      "Student name:moon\n",
      "Student age:18\n",
      "updated age:30\n"
     ]
    }
   ],
   "source": [
    "class Student:\n",
    "    def __init__(self,name,age):\n",
    "        self.name=name\n",
    "        self.__age=age\n",
    "        # public method to acces private age\n",
    "    def get_age(self):\n",
    "        return self.__age\n",
    "    def set_age(self,age):\n",
    "        if age>0:\n",
    "            self.__age=age\n",
    "        else:\n",
    "            print(\"age must be poisitive.\")\n",
    "st=Student(\"moon\",18)\n",
    "\n",
    "print(f\"Student name:{st.name}\")\n",
    "print(f\"Student age:{st.get_age()}\")\n",
    "#updating private attribute via setter method\n",
    "st.set_age(30)\n",
    "print(f\"updated age:{st.get_age()}\")\n",
    "\n",
    "\n",
    "\n",
    "# print(f\"Student age:{st.get_age()}\")"
   ]
  },
  {
   "cell_type": "code",
   "execution_count": 91,
   "id": "aabeba01-a5c4-408d-a103-9604b1c03616",
   "metadata": {},
   "outputs": [
    {
     "name": "stdout",
     "output_type": "stream",
     "text": [
      "name of the book=\tLIFE OF ENGINEERING\n",
      "name of the author=\tDARSHAN\n",
      "price of the book=\t2000.0000000000\n",
      "updated price of the book=\t2500.0\n",
      "PRICE CANNOT BE NEGATIVE\n",
      "updated price of the book=\t2500.0\n"
     ]
    }
   ],
   "source": [
    "class Book:\n",
    "    def __init__(self,title,author,price):\n",
    "        self.title=title\n",
    "        self.author=author\n",
    "        self.__price=price\n",
    "    def set_price(self,price):\n",
    "        if price>0:\n",
    "            self.__price=price\n",
    "        else:\n",
    "            print(\"PRICE CANNOT BE NEGATIVE\")\n",
    "         \n",
    "        # return self.__price\n",
    "    def get_price(self):\n",
    "        return self.__price\n",
    "b1=Book(\"LIFE OF ENGINEERING\",\"DARSHAN\",2000)\n",
    "print(f\"name of the book=\\t{b1.title}\")\n",
    "print(f\"name of the author=\\t{b1.author}\")\n",
    "\n",
    "print(f\"price of the book=\\t{b1.get_price():.10f}\")\n",
    "# print(f\"price of the book=\\t{b1.price}\")\n",
    "b1.set_price(2500)\n",
    "print(f\"updated price of the book=\\t{b1.get_price():.1f}\")\n",
    "b1.set_price(-2500)\n",
    "print(f\"updated price of the book=\\t{b1.get_price():.1f}\")\n"
   ]
  },
  {
   "cell_type": "code",
   "execution_count": 108,
   "id": "eb8f8c6d-4370-4b11-b04a-8a8825b01770",
   "metadata": {},
   "outputs": [
    {
     "name": "stdout",
     "output_type": "stream",
     "text": [
      "name of the employ SAI VIKAS\n",
      "name of the position  IAS\n",
      "name of the employ 1500000\n"
     ]
    },
    {
     "data": {
      "text/plain": [
       "1500000"
      ]
     },
     "execution_count": 108,
     "metadata": {},
     "output_type": "execute_result"
    }
   ],
   "source": [
    "class Employing:\n",
    "    def __init__(self,name,position,salary):\n",
    "        self.__name=name\n",
    "        self.__position=position\n",
    "        self.__salary=salary\n",
    "    def set_salary(self,salary):\n",
    "        if salary>0:\n",
    "            self.__salary=salary\n",
    "            return self.__salary\n",
    "        else:\n",
    "            print(\"VALIDATION ITS NON NEGATIVE....\")\n",
    "    def get_details(self):\n",
    "        print(f\"name of the employ {self.__name}\")\n",
    "        print(f\"name of the position {self.__name[-6::-1]}\")\n",
    "        print(f\"name of the employ {self.__salary}\")\n",
    "e1=Employing(\"SAI VIKAS\",\"IAS\",1210)\n",
    "e1.set_salary(1500000)\n",
    "e1.get_details()\n",
    "e1.set_salary(1500000)\n",
    "# print(e1)"
   ]
  },
  {
   "cell_type": "code",
   "execution_count": null,
   "id": "9b1d99c2-ec6c-4c38-83d7-b99719e4b9d7",
   "metadata": {},
   "outputs": [],
   "source": []
  },
  {
   "cell_type": "code",
   "execution_count": null,
   "id": "f73a8b88-79aa-4bdc-87f7-2dd55c016064",
   "metadata": {},
   "outputs": [],
   "source": []
  }
 ],
 "metadata": {
  "kernelspec": {
   "display_name": "Python 3 (ipykernel)",
   "language": "python",
   "name": "python3"
  },
  "language_info": {
   "codemirror_mode": {
    "name": "ipython",
    "version": 3
   },
   "file_extension": ".py",
   "mimetype": "text/x-python",
   "name": "python",
   "nbconvert_exporter": "python",
   "pygments_lexer": "ipython3",
   "version": "3.13.1"
  }
 },
 "nbformat": 4,
 "nbformat_minor": 5
}
