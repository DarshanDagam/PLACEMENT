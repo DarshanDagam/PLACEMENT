{
 "cells": [
  {
   "cell_type": "code",
   "execution_count": null,
   "id": "811c8630-a217-4d88-858d-27e92d44e623",
   "metadata": {},
   "outputs": [],
   "source": [
    "def function_1(first,last):\n",
    "    print(\"happy birthday{first}\".format(first))\n",
    "    print(\"you are adult now.....{last}\".format(last))\n",
    "    \n",
    "a=function_1(\"darshan\",18)\n",
    "print(a)"
   ]
  },
  {
   "cell_type": "code",
   "execution_count": null,
   "id": "5435a65f-bf54-4258-9cea-b5f5f419309a",
   "metadata": {},
   "outputs": [],
   "source": [
    "def function_1(first,last):\n",
    "    print(\"happy birthday{first}\".format(first))\n",
    "    print(\"you are adult now.....{last}\".format(last))\n",
    "a=function_1(\"darshan\",18)\n",
    "print(a)"
   ]
  },
  {
   "cell_type": "code",
   "execution_count": null,
   "id": "b8f57052-a9cb-42c3-98f6-71c5c9dc6402",
   "metadata": {},
   "outputs": [],
   "source": [
    "def function_1(first, last):\n",
    "    return \"Happy birthday, {0}!\\nYou are an adult now... {1}\".format(first, last)\n",
    "\n",
    "a = function_1(\"darshan\", 18)\n",
    "print(a)\n"
   ]
  },
  {
   "cell_type": "code",
   "execution_count": null,
   "id": "e2da7c48-5e28-442e-b391-b49279e0b9b6",
   "metadata": {},
   "outputs": [],
   "source": [
    "name,age=input(\"enter your name=\")\n",
    "age=input(\"enter your age=\")\n",
    "\n",
    "def happy(name,age):\n",
    "    print(f\"happy birthday {name} mawa\\nyou are {age}years old\")\n",
    "happy(name,age)\n",
    "# name=input(\"enter your name=\")\n",
    "# age=input(\"enter your age=\")"
   ]
  },
  {
   "cell_type": "code",
   "execution_count": null,
   "id": "311ff63e-161e-4e62-9f93-c5f243b0064a",
   "metadata": {},
   "outputs": [],
   "source": [
    "# 1. Positional Arguments\n",
    "def greet(name,age):\n",
    "    print(f\"hellow,{name} !! You are {age} years old.\")\n",
    "greet(\"darshan\",18)   "
   ]
  },
  {
   "cell_type": "code",
   "execution_count": null,
   "id": "d504da65-55e5-47a8-8e01-6ab339edafd9",
   "metadata": {},
   "outputs": [],
   "source": [
    "def greet(name,age):\n",
    "    print(\"hellow,{0} !! You are {1} years old.\".format(name,age))\n",
    "greet(\"darshan\",18) "
   ]
  },
  {
   "cell_type": "code",
   "execution_count": null,
   "id": "ed7e9cb2-1153-470d-9019-77b2f74c0aa5",
   "metadata": {},
   "outputs": [],
   "source": [
    "# 2. Keyword Arguments\n",
    "def greet(name,age):\n",
    "    print(f\"hellow,{name} !! You are {age} years old.\")\n",
    "greet(age=18,name=\"darshan\") "
   ]
  },
  {
   "cell_type": "code",
   "execution_count": null,
   "id": "b124b53e-6dc6-486f-9015-24b9eede74f9",
   "metadata": {},
   "outputs": [],
   "source": [
    "# 3. Default Arguments\n",
    "def greet(name,age=24):\n",
    "    print(f\"hellow,{name} !! You are {age} years old.\")\n",
    "greet(\"darshan\")\n",
    "greet(\"dinesh\")"
   ]
  },
  {
   "cell_type": "code",
   "execution_count": null,
   "id": "6f42bb9d-f32e-4148-b1dd-715fc06ff896",
   "metadata": {},
   "outputs": [],
   "source": [
    "# 4. Arbitrary Arguments(variable length arguments)\n",
    "# non keyword arguments\n",
    "def greet(*names):\n",
    "    for name in names:\n",
    "        print(f\"hellow,{names}!!\")\n",
    "greet(\"darshan\",\"dinesh\",\"saivikas\",\"hanumandlu\",)\n",
    "print(type(greet))"
   ]
  },
  {
   "cell_type": "code",
   "execution_count": null,
   "id": "19377028-13c3-4407-8d03-1c0bc043249b",
   "metadata": {},
   "outputs": [],
   "source": [
    "#keyword arguments# 4. Arbitrary Arguments(variable length arguments)\n",
    "# keyword arguments\n",
    "def greet(**names):\n",
    "    for name,values in names.items():\n",
    "        print(f\"{name}:{values}\")\n",
    "greet(name=\"darshan\",age=18,city=\"hyd\")"
   ]
  },
  {
   "cell_type": "code",
   "execution_count": null,
   "id": "49c5ba65-1bd7-4369-93f8-897cc705d3cd",
   "metadata": {},
   "outputs": [],
   "source": [
    "print(type(\"darshan\",\"dinesh\",\"saivikas\",\"hanumandlu\"))"
   ]
  },
  {
   "cell_type": "code",
   "execution_count": null,
   "id": "228d171e-d2ce-4576-81ec-b262dd284cde",
   "metadata": {},
   "outputs": [],
   "source": [
    " # 4. Arbitrary Arguments(variable length arguments)\n",
    "# non keyword arguments\n",
    "def greet(*names):\n",
    "    for name in names:\n",
    "        print(f\"hellow,{name}!!\")\n",
    "greet(\"darshan\",\"dinesh\",\"saivikas\",\"hanumandlu\",)\n",
    "print(type(greet))"
   ]
  },
  {
   "cell_type": "code",
   "execution_count": null,
   "id": "ea654013-ee40-458c-92e1-f4854a3a6464",
   "metadata": {},
   "outputs": [],
   "source": [
    "#5.keyword arguments \n",
    "def greet(name,*,age):\n",
    "    print(f\"hellow {name},you are {age} years of old\")\n",
    "greet(\"datshAN\",age=90)\n",
    "greet(age=990,name=\"datshAN\")"
   ]
  },
  {
   "cell_type": "code",
   "execution_count": null,
   "id": "789af0fb-96a3-44e6-9f75-cc9c5f932e51",
   "metadata": {},
   "outputs": [],
   "source": [
    "#arbitary arguments(*ards and * kwargs)\n",
    "def greet(*names,**info):\n",
    "    for name in names:\n",
    "        print(f\"hellow {name}\")\n",
    "    for key,value in info.items():\n",
    "        print(f\"{key}:{value}\")\n",
    "        \n",
    "greet(\"darshan\",\"dinesh\",age=10,city=\"hyderabad\")\n",
    "    "
   ]
  },
  {
   "cell_type": "code",
   "execution_count": null,
   "id": "8fb53579-a403-4259-a815-0b304eef9dbe",
   "metadata": {},
   "outputs": [],
   "source": [
    "def sum(a,b):\n",
    "    return a+b\n",
    "a=sum(10,20)\n",
    "print(a)"
   ]
  },
  {
   "cell_type": "code",
   "execution_count": null,
   "id": "1cbd2632-a82d-41dc-bef3-7b406478b3d5",
   "metadata": {},
   "outputs": [],
   "source": [
    "name=input(\"enter your name=\")\n",
    "def wish(name):\n",
    "    print(F\"good morning myster/misses {name}\")\n",
    "wish(name)"
   ]
  },
  {
   "cell_type": "code",
   "execution_count": null,
   "id": "c35c7386-1e3c-4daf-9cb6-4e04ad5e60fb",
   "metadata": {},
   "outputs": [],
   "source": [
    "def sum(a,b):\n",
    "    return a+b\n",
    "# x=sum(s,d)\n",
    "s=int(input('enter='))\n",
    "d=int(input('enter='))\n",
    "x=sum(s,d)\n",
    "print(x)"
   ]
  },
  {
   "cell_type": "code",
   "execution_count": null,
   "id": "f8d41074-1a4e-4127-8ada-e6c0168fdab9",
   "metadata": {},
   "outputs": [],
   "source": [
    "a=[10,20,30,40,10,20,20]\n",
    "b=[10,20,103,20,30,30]\n",
    "a.extend(b)\n",
    "set1=set(a)\n",
    "print(\"set coversion=\",set1)\n",
    "flist=list(set1)\n",
    "# print(a)\n",
    "print(\"final list ==\",flist)\n",
    "\n",
    "\n",
    "# c=set(e)\n",
    "# d=list(c)\n",
    "# print(d)"
   ]
  },
  {
   "cell_type": "code",
   "execution_count": null,
   "id": "da941cb3-0b0c-4fcb-a385-e6523ed2b8c6",
   "metadata": {},
   "outputs": [],
   "source": [
    "a=[10,20,30,40,10,20,20]\n",
    "b=[10,20,103,20,30,30]\n",
    "def remm(a,b):\n",
    "    a.extend(b)\n",
    "    set1=set(a)\n",
    "    print(\"set coversion ==\",set1)\n",
    "    flist=list(set1)\n",
    "    # print(a)\n",
    "    print(\"final list ==\",flist)\n",
    "remm(a,b)"
   ]
  },
  {
   "cell_type": "code",
   "execution_count": null,
   "id": "1e36d11c-66a5-4474-8a67-ee626410fca8",
   "metadata": {},
   "outputs": [],
   "source": [
    "a=[10,20,30,40,10,20,20]\n",
    "b=[10,20,103,20,30,30]\n",
    "def remm(a,b):\n",
    "    a.extend(b)\n",
    "    \n",
    "    # set1=set(a)\n",
    "    # print(\"set coversion ==\",set1)\n",
    "    # flist=list(set1)\n",
    "    # # print(a)\n",
    "    # print(\"final list ==\",flist)\n",
    "remm(a,b)"
   ]
  },
  {
   "cell_type": "code",
   "execution_count": null,
   "id": "edccedc4-cecf-41f1-b0c4-3d406fbd1878",
   "metadata": {},
   "outputs": [],
   "source": [
    "def remove_duplicates_set(lst):\n",
    "    return list(set(lst))\n",
    "\n",
    "# Example usage:\n",
    "original_list = [1,2, 3, 1, 2, 4, 5]\n",
    "unique_list = remove_duplicates_set(original_list)\n",
    "print(unique_list)  # Output: [1, 2, 3, 4, 5]\n"
   ]
  },
  {
   "cell_type": "code",
   "execution_count": null,
   "id": "f5cae792-ab05-4c8b-9629-970ac86ee670",
   "metadata": {},
   "outputs": [],
   "source": [
    "def invaice(username,amount,duedate):\n",
    "    print(f\"username={username}\\namount={amount}$\\nduedate={duedate}\")\n",
    "invaice(\"darshan\",100.00,\"01-12-2024\")"
   ]
  },
  {
   "cell_type": "code",
   "execution_count": null,
   "id": "5f73fad3-faea-42fb-a09c-7ff9556ed5d8",
   "metadata": {},
   "outputs": [],
   "source": [
    "username=input(\"enter your name=\")\n",
    "duedate=input(\"enter your date=\")\n",
    "amount=float(input(\"enter your amount=\"))\n",
    "def invaice(username,amount,duedate):\n",
    "    print(f\"username={username}\\namount={amount}$\\nduedate={duedate}\")\n",
    "invaice(username,amount,duedate)\n"
   ]
  },
  {
   "cell_type": "code",
   "execution_count": null,
   "id": "3b142d10-4f3a-4722-8024-d374b3060a93",
   "metadata": {},
   "outputs": [],
   "source": [
    "fname=input(\"enter your name==\")\n",
    "lname=input(\"enter your name==\")\n",
    "def fullname(fname,lname):\n",
    "    a=fname.capitalize()\n",
    "    b=lname.capitalize()\n",
    "    print(a+\" \"+b)\n",
    "fullname(fname,lname)"
   ]
  },
  {
   "cell_type": "code",
   "execution_count": null,
   "id": "333928b0-e32f-4516-86d4-0e0f8fc25729",
   "metadata": {},
   "outputs": [],
   "source": [
    "num1=int(input(\"enter your first num=\"))\n",
    "num2=int(input(\"enter your first num=\"))\n",
    "num3=int(input(\"enter your first num=\"))\n",
    "def big(num1,num2,num3):\n",
    "    if num1>num2 and num1>num3:\n",
    "        print(f\"{num1} is greatest number....\")\n",
    "    elif num2>num3  :\n",
    "        print(f\"{num2} is greatest number....\")\n",
    "    else:\n",
    "        print(f\"{num3} is greatest number....\")\n",
    "big(num1,num2,num3)\n",
    "\n"
   ]
  },
  {
   "cell_type": "code",
   "execution_count": null,
   "id": "20b46527-70c1-4eff-8f28-dc1302d630ac",
   "metadata": {},
   "outputs": [],
   "source": [
    "ss=eval(input(\"enter the nuumbers=\"))\n",
    "def big(ss):\n",
    "    d=list(ss)\n",
    "    d.sort()\n",
    "    print(\"the biggest no.is ==\",d[-1])\n",
    "big(ss)"
   ]
  },
  {
   "cell_type": "code",
   "execution_count": 3,
   "id": "79ce4871-b2c2-4642-b325-a1695a708d7e",
   "metadata": {},
   "outputs": [
    {
     "name": "stdin",
     "output_type": "stream",
     "text": [
      "enter the nuumbers= 101,102,104\n"
     ]
    },
    {
     "name": "stdout",
     "output_type": "stream",
     "text": [
      "the biggest no.is == 104\n"
     ]
    }
   ],
   "source": [
    "ss=eval(input(\"enter the nuumbers=\"))\n",
    "def big(ss):\n",
    "    d=list(ss)\n",
    "    #d.sort(reverse=True)\n",
    "    print(\"the biggest no.is ==\",max(d))\n",
    "big(ss)"
   ]
  },
  {
   "cell_type": "code",
   "execution_count": 4,
   "id": "3bfa4cf3-8944-47c1-9a3e-44efe6aab726",
   "metadata": {},
   "outputs": [
    {
     "name": "stdin",
     "output_type": "stream",
     "text": [
      "enter= darshan\n"
     ]
    },
    {
     "name": "stdout",
     "output_type": "stream",
     "text": [
      "dArshAn\n"
     ]
    }
   ],
   "source": [
    "st=input(\"enter=\")\n",
    "def uppercase_function(st):\n",
    "    if \"a\"in st:\n",
    "        print(st.replace(\"a\",\"A\"))\n",
    "    if \"e\"in st:\n",
    "        print(st.replace(\"e\",\"E\"))\n",
    "    if \"i\"in st:\n",
    "        print(st.replace(\"i\",\"I\"))\n",
    "    if \"o\"in st:\n",
    "        print(st.replace(\"o\",\"O\"))\n",
    "    if \"u\"in st:\n",
    "        print(st.replace(\"u\",\"U\"))\n",
    "uppercase_function(st) \n",
    "    "
   ]
  },
  {
   "cell_type": "code",
   "execution_count": 17,
   "id": "b362c90d-a164-4136-8156-a1be1569eb9d",
   "metadata": {},
   "outputs": [
    {
     "name": "stdin",
     "output_type": "stream",
     "text": [
      "enter= prtanay aeiou\n"
     ]
    },
    {
     "name": "stdout",
     "output_type": "stream",
     "text": [
      "prtAnAy AEIOU"
     ]
    }
   ],
   "source": [
    "st=input(\"enter=\")\n",
    "nj=[\"A\",\"E\",\"I\",\"O\",\"U\"]\n",
    "def uppercase_function(st):\n",
    "    for i in st:\n",
    "        if i.upper() in nj:\n",
    "            print(i.upper(),end=\"\")\n",
    "        else:\n",
    "            print(i.lower(),end=\"\")\n",
    "uppercase_function(st)"
   ]
  },
  {
   "cell_type": "code",
   "execution_count": 33,
   "id": "2211a739-55a8-4898-9587-7025ada45b8c",
   "metadata": {},
   "outputs": [
    {
     "name": "stdin",
     "output_type": "stream",
     "text": [
      "enter= listen\n",
      "enter= silent\n"
     ]
    },
    {
     "name": "stdout",
     "output_type": "stream",
     "text": [
      "lsilentisilentssilenttsilentesilentnsilentgiven is not anmagram\n"
     ]
    }
   ],
   "source": [
    "st1=input(\"enter=\")\n",
    "st2=input(\"enter=\")\n",
    "def anagrams(st1,st2):\n",
    "    for i in st1:\n",
    "        print(i,end=\"\")\n",
    "        for j in st2:\n",
    "            print(j,end=\"\")\n",
    "    if i==j:\n",
    "        print(\"given is anmagram\")\n",
    "    else:\n",
    "        print(\"given is not anmagram\")\n",
    "anagrams(st1,st2)"
   ]
  },
  {
   "cell_type": "code",
   "execution_count": 39,
   "id": "9f4a18c5-899a-43ff-8b88-6fd0d4ab9cce",
   "metadata": {},
   "outputs": [
    {
     "name": "stdin",
     "output_type": "stream",
     "text": [
      "enter= listen\n",
      "enter= silent\n"
     ]
    },
    {
     "name": "stdout",
     "output_type": "stream",
     "text": [
      "None\n",
      "['s', 'i', 'l', 'e', 'n', 't']\n"
     ]
    }
   ],
   "source": [
    "st1=input(\"enter=\")\n",
    "st2=input(\"enter=\")\n",
    "#def anagrams(st1,st2):\n",
    "list(st1.sort())\n",
    "print(list(st1).sort())\n",
    "print(list(st2))\n",
    "list(st2.sort()\n",
    "if list(st1)==list(st2):\n",
    "    print (it is anagram)\n",
    "    "
   ]
  },
  {
   "cell_type": "code",
   "execution_count": null,
   "id": "f2985131-372c-4def-9ff5-015da85e95d8",
   "metadata": {},
   "outputs": [],
   "source": []
  }
 ],
 "metadata": {
  "kernelspec": {
   "display_name": "Python 3 (ipykernel)",
   "language": "python",
   "name": "python3"
  },
  "language_info": {
   "codemirror_mode": {
    "name": "ipython",
    "version": 3
   },
   "file_extension": ".py",
   "mimetype": "text/x-python",
   "name": "python",
   "nbconvert_exporter": "python",
   "pygments_lexer": "ipython3",
   "version": "3.13.1"
  }
 },
 "nbformat": 4,
 "nbformat_minor": 5
}
