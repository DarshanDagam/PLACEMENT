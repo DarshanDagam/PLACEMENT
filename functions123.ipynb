{
 "cells": [
  {
   "cell_type": "code",
   "execution_count": 25,
   "id": "c81d9d00-2d1c-48ed-bd9d-d688515e8d1f",
   "metadata": {},
   "outputs": [
    {
     "name": "stdin",
     "output_type": "stream",
     "text": [
      "enter your marks= 10,20\n",
      "enter ur name= hjnhikuht\n"
     ]
    },
    {
     "ename": "NameError",
     "evalue": "name 'average' is not defined",
     "output_type": "error",
     "traceback": [
      "\u001b[1;31m---------------------------------------------------------------------------\u001b[0m",
      "\u001b[1;31mNameError\u001b[0m                                 Traceback (most recent call last)",
      "Cell \u001b[1;32mIn[25], line 44\u001b[0m\n\u001b[0;32m     42\u001b[0m \u001b[38;5;28;01mdef\u001b[39;00m \u001b[38;5;21mmain\u001b[39m():\n\u001b[0;32m     43\u001b[0m     \u001b[38;5;124m\"\u001b[39m\u001b[38;5;124mwelcome to subject grafding system\u001b[39m\u001b[38;5;124m\"\u001b[39m\n\u001b[1;32m---> 44\u001b[0m d\u001b[38;5;241m=\u001b[39mdisplay_result(name,marks,\u001b[43maverage\u001b[49m,grade)\n\u001b[0;32m     45\u001b[0m f\u001b[38;5;241m=\u001b[39mcalculate_average(marks)\n\u001b[0;32m     46\u001b[0m c\u001b[38;5;241m=\u001b[39mdisplay_result(name,marks,average,grade)\n",
      "\u001b[1;31mNameError\u001b[0m: name 'average' is not defined"
     ]
    }
   ],
   "source": [
    "marks1=eval(input(\"enter your marks=\"))\n",
    "marks=list(marks1)\n",
    "# marks2=int(input(\"enter your marks=\"))\n",
    "name=input(\"enter ur name=\")\n",
    "\n",
    "\n",
    "\n",
    "def calculate_average(marks):\n",
    "    for i in marks:\n",
    "        # mark=+i\n",
    "        total_marks +=i\n",
    "    average = total_marks/len(marks)\n",
    "    return average\n",
    "    # total_marks=(marks1+marks)/2:\n",
    "    # return total_marks\n",
    "    \n",
    "\n",
    "\n",
    "    \n",
    "def determine_grade(average):\n",
    "    if 0<total_marks<35:\n",
    "        grade=F\n",
    "    elif 35<=total_marks<50:\n",
    "        grade=C\n",
    "    elif 50<=total_marks<70:\n",
    "        grade=B\n",
    "    elif 70<=total_marks<100:\n",
    "        grade=A\n",
    "    else:\n",
    "        print(\"no data found\")\n",
    "    # print(grade)\n",
    "        \n",
    "        \n",
    "        \n",
    "def display_result(name,marks,average,grade):\n",
    "    print(name)\n",
    "    print(total_marks)\n",
    "    print(average)\n",
    "    print(grade)\n",
    "    \n",
    "    \n",
    "def main():\n",
    "    \"welcome to subject grafding system\"\n",
    "d=display_result(name,marks,average,grade)\n",
    "f=calculate_average(marks)\n",
    "c=display_result(name,marks,average,grade)\n",
    "print(d)\n",
    "print(f)\n",
    "print(c)\n",
    "    "
   ]
  },
  {
   "cell_type": "code",
   "execution_count": 42,
   "id": "4e1ffe8c-f993-4804-b152-52c14078c1ab",
   "metadata": {},
   "outputs": [
    {
     "name": "stdout",
     "output_type": "stream",
     "text": [
      "10\n"
     ]
    },
    {
     "ename": "UnboundLocalError",
     "evalue": "cannot access local variable 'total' where it is not associated with a value",
     "output_type": "error",
     "traceback": [
      "\u001b[1;31m---------------------------------------------------------------------------\u001b[0m",
      "\u001b[1;31mUnboundLocalError\u001b[0m                         Traceback (most recent call last)",
      "Cell \u001b[1;32mIn[42], line 7\u001b[0m\n\u001b[0;32m      5\u001b[0m         total \u001b[38;5;241m+\u001b[39m\u001b[38;5;241m=\u001b[39m i\n\u001b[0;32m      6\u001b[0m     \u001b[38;5;28;01mreturn\u001b[39;00m marks\n\u001b[1;32m----> 7\u001b[0m a\u001b[38;5;241m=\u001b[39m\u001b[43mcalculate_average\u001b[49m\u001b[43m(\u001b[49m\u001b[43mmarks\u001b[49m\u001b[43m)\u001b[49m\n\u001b[0;32m      8\u001b[0m \u001b[38;5;28mprint\u001b[39m(a)\n",
      "Cell \u001b[1;32mIn[42], line 5\u001b[0m, in \u001b[0;36mcalculate_average\u001b[1;34m(marks)\u001b[0m\n\u001b[0;32m      3\u001b[0m \u001b[38;5;28;01mfor\u001b[39;00m i \u001b[38;5;129;01min\u001b[39;00m marks:\n\u001b[0;32m      4\u001b[0m     \u001b[38;5;28mprint\u001b[39m(i)\n\u001b[1;32m----> 5\u001b[0m     \u001b[43mtotal\u001b[49m \u001b[38;5;241m+\u001b[39m\u001b[38;5;241m=\u001b[39m i\n\u001b[0;32m      6\u001b[0m \u001b[38;5;28;01mreturn\u001b[39;00m marks\n",
      "\u001b[1;31mUnboundLocalError\u001b[0m: cannot access local variable 'total' where it is not associated with a value"
     ]
    }
   ],
   "source": [
    "# marks=[20,30]\n",
    "def calculate_average(marks):\n",
    "    for i in marks:\n",
    "        print(i)\n",
    "        total += i\n",
    "    return marks\n",
    "a=calculate_average(marks)\n",
    "print(a)"
   ]
  },
  {
   "cell_type": "code",
   "execution_count": 33,
   "id": "f38f6567-cf88-41d9-85f7-856dcc99cd27",
   "metadata": {},
   "outputs": [
    {
     "name": "stdin",
     "output_type": "stream",
     "text": [
      "Enter your marks:  10,30\n",
      "Enter your name:  jniunk\n"
     ]
    },
    {
     "name": "stdout",
     "output_type": "stream",
     "text": [
      "Name: jniunk\n",
      "Total Marks: 40\n",
      "Average: 20.0\n",
      "Grade: F\n"
     ]
    }
   ],
   "source": [
    "def calculate_average(marks):\n",
    "    total_marks = 0\n",
    "    for i in marks:\n",
    "        total_marks += i\n",
    "    average = total_marks / len(marks)\n",
    "    return average, total_marks\n",
    "\n",
    "def determine_grade(average):\n",
    "    if 0 < average < 35:\n",
    "        grade = 'F'\n",
    "    elif 35 <=average < 50:\n",
    "        grade = 'C'\n",
    "    elif 50 <= average < 70:\n",
    "        grade = 'B'\n",
    "    elif 70 <= average < 100:\n",
    "        grade = 'A'\n",
    "    else:\n",
    "        grade = 'No data found'\n",
    "    return grade\n",
    "\n",
    "def display_result(name, total_marks, average, grade):\n",
    "    print(f\"Name: {name}\")\n",
    "    print(f\"Total Marks: {total_marks}\")\n",
    "    print(f\"Average: {average}\")\n",
    "    print(f\"Grade: {grade}\")\n",
    "\n",
    "def main():\n",
    "    marks1 = eval(input(\"Enter your marks: \"))\n",
    "    marks = list(marks1)\n",
    "    name = input(\"Enter your name: \")\n",
    "\n",
    "    average, total_marks = calculate_average(marks)\n",
    "    grade = determine_grade(average)\n",
    "    display_result(name, total_marks, average, grade)\n",
    "\n",
    "# if __name__ == \"__main__\":\n",
    "main()\n"
   ]
  },
  {
   "cell_type": "code",
   "execution_count": 51,
   "id": "49775244-2798-4a1c-b18f-2c0cea42f4cc",
   "metadata": {},
   "outputs": [
    {
     "name": "stdin",
     "output_type": "stream",
     "text": [
      "enter your marks= 10,20\n",
      "entger your name= jhnnk\n"
     ]
    },
    {
     "name": "stdout",
     "output_type": "stream",
     "text": [
      "your name=jhnnk\n",
      "your total_marks=30\n",
      "your average=15.0\n",
      "your grade=F\n"
     ]
    }
   ],
   "source": [
    "# marks=[10,20]\n",
    "# total_marks=0\n",
    "def calculate_average(marks):\n",
    "    total_marks=0\n",
    "    for i in marks:\n",
    "        # print(i)\n",
    "        total_marks+=i\n",
    "    average=total_marks/len(marks)\n",
    "    return average,total_marks\n",
    "    # print(total_marks)\n",
    "    # print(average)\n",
    "def calculate_grade(average):\n",
    "    if 0<=average<=35:\n",
    "        grade=\"F\"\n",
    "    elif 36<=average<=50:\n",
    "        grade=\"C\"\n",
    "    elif 51<=average<=70:\n",
    "        grade=\"B\"\n",
    "    elif 70<=average<=100:\n",
    "        grade=\"A\"\n",
    "    else:\n",
    "        print(\"no data found\")\n",
    "    return grade\n",
    "def display_result(name, total_marks, average, grade):\n",
    "    print(f\"your name={name}\")\n",
    "    print(f\"your total_marks={total_marks}\")\n",
    "    print(f\"your average={average}\")\n",
    "    print(f\"your grade={grade}\")\n",
    "\n",
    "def main():\n",
    "    marks1=eval(input(\"enter your marks=\"))\n",
    "    marks=list(marks1)\n",
    "    name=input(\"entger your name=\")\n",
    "    # total_marks=0\n",
    "    average, total_marks = calculate_average(marks)\n",
    "    grade=calculate_grade(average)\n",
    "    display_result(name, total_marks, average, grade)\n",
    "main()   \n",
    "    \n",
    "    \n",
    "    \n",
    "\n",
    "# calculate_average(total_marks,marks)"
   ]
  },
  {
   "cell_type": "code",
   "execution_count": null,
   "id": "36190bfa-3da2-4178-bb32-8843bd334d22",
   "metadata": {},
   "outputs": [],
   "source": [
    "def display_items(items):\n",
    "    dict1={\"A1\": soda - $1.25,\"B2\": chips- $1.00,\"C3\": candy- $1.30,\"D4\" : water-$1.35}\n",
    "    my_dict=dict1.fromkeys(keys,values)\n",
    "    # print(\"here are the available items....\")\n",
    "    # print(\"A1: soda - $1.25\")\n",
    "    # print(\"B2: chips- $1.00\")\n",
    "    # print(\"A1: soda - $1.25\")\n",
    "    # print(\"A1: soda - $1.25\")\n",
    "def select_items(items):\n",
    "def process_payment(item_price):\n",
    "def dispense_item(item,name,change):\n",
    "def vending_machine():\n",
    "    print(\"WELCOME TO VENDING MACHINE...!\")"
   ]
  },
  {
   "cell_type": "code",
   "execution_count": 57,
   "id": "1eb7a149-3caf-4df9-82fc-2954bc370ac5",
   "metadata": {},
   "outputs": [
    {
     "ename": "NameError",
     "evalue": "name 'soda' is not defined",
     "output_type": "error",
     "traceback": [
      "\u001b[1;31m---------------------------------------------------------------------------\u001b[0m",
      "\u001b[1;31mNameError\u001b[0m                                 Traceback (most recent call last)",
      "Cell \u001b[1;32mIn[57], line 1\u001b[0m\n\u001b[1;32m----> 1\u001b[0m dict1\u001b[38;5;241m=\u001b[39m{\u001b[38;5;124m\"\u001b[39m\u001b[38;5;124mA1\u001b[39m\u001b[38;5;124m\"\u001b[39m:\u001b[43msoda\u001b[49m\u001b[38;5;241m-\u001b[39m\u001b[38;5;241m25\u001b[39m,\u001b[38;5;124m\"\u001b[39m\u001b[38;5;124mB2\u001b[39m\u001b[38;5;124m\"\u001b[39m:chips\u001b[38;5;241m-\u001b[39m\u001b[38;5;241m1.00\u001b[39m,\u001b[38;5;124m\"\u001b[39m\u001b[38;5;124mC3\u001b[39m\u001b[38;5;124m\"\u001b[39m:candy\u001b[38;5;241m-\u001b[39m\u001b[38;5;241m1.30\u001b[39m,\u001b[38;5;124m\"\u001b[39m\u001b[38;5;124mD4\u001b[39m\u001b[38;5;124m\"\u001b[39m :water\u001b[38;5;241m-\u001b[39m\u001b[38;5;241m1.35\u001b[39m}\n\u001b[0;32m      2\u001b[0m my_dict\u001b[38;5;241m=\u001b[39mdict1\u001b[38;5;241m.\u001b[39mfromkeys(keys,values)\n\u001b[0;32m      3\u001b[0m \u001b[38;5;28mprint\u001b[39m(my_dict)\n",
      "\u001b[1;31mNameError\u001b[0m: name 'soda' is not defined"
     ]
    }
   ],
   "source": [
    "dict1={\"A1\":soda-25,\"B2\":chips-1.00,\"C3\":candy-1.30,\"D4\" :water-1.35}\n",
    "my_dict=dict1.fromkeys(keys,values)\n",
    "print(my_dict)"
   ]
  },
  {
   "cell_type": "code",
   "execution_count": 59,
   "id": "9ee3e531-4c25-450a-99e1-cfa0cd586ff7",
   "metadata": {},
   "outputs": [
    {
     "name": "stdout",
     "output_type": "stream",
     "text": [
      "Here are the available items:\n",
      "A1: soda - $1.25\n",
      "B2: chips - $1.00\n",
      "C3: candy - $1.30\n",
      "D4: water - $1.35\n"
     ]
    },
    {
     "name": "stdin",
     "output_type": "stream",
     "text": [
      "Enter the code of the item you want to select:  A1\n"
     ]
    },
    {
     "name": "stdout",
     "output_type": "stream",
     "text": [
      "The price of the item is $1.25\n"
     ]
    },
    {
     "name": "stdin",
     "output_type": "stream",
     "text": [
      "Enter the amount you are paying:  2\n"
     ]
    },
    {
     "name": "stdout",
     "output_type": "stream",
     "text": [
      "Dispensing soda.\n",
      "Please take your change: $0.75\n"
     ]
    }
   ],
   "source": [
    "def display_items():\n",
    "    items = {\n",
    "        \"A1\": {\"name\": \"soda\", \"price\": 1.25},\n",
    "        \"B2\": {\"name\": \"chips\", \"price\": 1.00},\n",
    "        \"C3\": {\"name\": \"candy\", \"price\": 1.30},\n",
    "        \"D4\": {\"name\": \"water\", \"price\": 1.35}\n",
    "    }\n",
    "    print(\"Here are the available items:\")\n",
    "    for code, item in items.items():\n",
    "        print(f\"{code}: {item['name']} - ${item['price']:.2f}\")\n",
    "    return items\n",
    "\n",
    "def select_item(items):\n",
    "    code = input(\"Enter the code of the item you want to select: \").upper()\n",
    "    if code in items:\n",
    "        return items[code]\n",
    "    else:\n",
    "        print(\"Invalid code. Please try again.\")\n",
    "        return None\n",
    "\n",
    "def process_payment(item_price):\n",
    "    print(f\"The price of the item is ${item_price:.2f}\")\n",
    "    amount_paid = float(input(\"Enter the amount you are paying: \"))\n",
    "    if amount_paid >= item_price:\n",
    "        change = amount_paid - item_price\n",
    "        return change\n",
    "    else:\n",
    "        print(\"Insufficient amount. Please try again.\")\n",
    "        return None\n",
    "\n",
    "def dispense_item(item, change):\n",
    "    print(f\"Dispensing {item['name']}.\")\n",
    "    if change > 0:\n",
    "        print(f\"Please take your change: ${change:.2f}\")\n",
    "\n",
    "def vending_machine():\n",
    "    items = display_items()\n",
    "    item = None\n",
    "    while item is None:\n",
    "        item = select_item(items)\n",
    "    change = None\n",
    "    while change is None:\n",
    "        change = process_payment(item['price'])\n",
    "    dispense_item(item, change)\n",
    "\n",
    "vending_machine()\n"
   ]
  },
  {
   "cell_type": "code",
   "execution_count": 83,
   "id": "5e13499a-6b32-4bb2-ae8d-739d75083d92",
   "metadata": {},
   "outputs": [
    {
     "name": "stdout",
     "output_type": "stream",
     "text": [
      "A1:soda - $1.25\n",
      "B2:chips - $1.00\n",
      "C3:candy - $1.30\n",
      "D4:water - $1.35\n"
     ]
    },
    {
     "data": {
      "text/plain": [
       "{'A1': {'name': 'soda', 'price': 1.25},\n",
       " 'B2': {'name': 'chips', 'price': 1.0},\n",
       " 'C3': {'name': 'candy', 'price': 1.3},\n",
       " 'D4': {'name': 'water', 'price': 1.35}}"
      ]
     },
     "execution_count": 83,
     "metadata": {},
     "output_type": "execute_result"
    }
   ],
   "source": [
    "def display_items():\n",
    "    items = {\n",
    "        \"A1\": {\"name\": \"soda\", \"price\": 1.25},\n",
    "        \"B2\": {\"name\": \"chips\", \"price\": 1.00},\n",
    "        \"C3\": {\"name\": \"candy\", \"price\": 1.30},\n",
    "        \"D4\": {\"name\": \"water\", \"price\": 1.35},\n",
    "    }\n",
    "    for code, item in items.items():\n",
    "        print(f\"{code}:{item[\"name\"]} - ${item[\"price\"]:.2f}\")\n",
    "        # print(f\"{code}: {item['name']} - ${item['price']:.2f}\")\n",
    "        # print(code,end=\"-\")\n",
    "        # print(item[\"name\"])\n",
    "    return items\n",
    "display_items(items)\n",
    "def select_items(items):\n",
    "    code=input(\"enter your selected item==\").upper()\n",
    "    if code in items:\n",
    "        return items[code]\n",
    "    else:\n",
    "        print(\"Invalid code. Please try again.\")\n",
    "        return None\n",
    "select_item(items)   "
   ]
  },
  {
   "cell_type": "code",
   "execution_count": 86,
   "id": "c6013632-a99a-4362-9ea7-dafa1047cb4b",
   "metadata": {},
   "outputs": [
    {
     "name": "stdout",
     "output_type": "stream",
     "text": [
      "A1: soda - $1.25\n",
      "B2: chips - $1.00\n",
      "C3: candy - $1.30\n",
      "D4: water - $1.35\n"
     ]
    },
    {
     "name": "stdin",
     "output_type": "stream",
     "text": [
      "Enter the code of the item you want:  A1\n",
      "The price is $1.25. Enter the amount:  2\n"
     ]
    },
    {
     "name": "stdout",
     "output_type": "stream",
     "text": [
      "Dispensing soda.\n",
      "Take your change: $0.75\n"
     ]
    }
   ],
   "source": [
    "def display_items():\n",
    "    items = {\n",
    "        \"A1\": {\"name\": \"soda\", \"price\": 1.2500},\n",
    "        \"B2\": {\"name\": \"chips\", \"price\": 1.00},\n",
    "        \"C3\": {\"name\": \"candy\", \"price\": 1.30},\n",
    "        \"D4\": {\"name\": \"water\", \"price\": 1.35}\n",
    "    }\n",
    "    for code, item in items.items():\n",
    "        print(f\"{code}: {item['name']} - ${item['price']:.2f}\")\n",
    "    return items\n",
    "\n",
    "def select_item(items):\n",
    "    code = input(\"Enter the code of the item you want: \").upper()\n",
    "    return items.get(code, \"Invalid code\")\n",
    "\n",
    "def process_payment(price):1\n",
    "    amount_paid = float(input(f\"The price is ${price:.2f}. Enter the amount: \"))\n",
    "    return amount_paid - price if amount_paid >= price else \"Insufficient amount\"\n",
    "\n",
    "def vending_machine():\n",
    "    items = display_items()\n",
    "    item = select_item(items)\n",
    "    if item == \"Invalid code\":\n",
    "        print(item)\n",
    "        return\n",
    "    change = process_payment(item['price'])\n",
    "    if change == \"Insufficient amount\":\n",
    "        print(change)\n",
    "        return\n",
    "    print(f\"Dispensing {item['name']}.\")\n",
    "    if change > 0:\n",
    "        print(f\"Take your change: ${change:.2f}\")\n",
    "\n",
    "vending_machine()\n"
   ]
  },
  {
   "cell_type": "code",
   "execution_count": 86,
   "id": "8738be07-8f66-4f8f-92f7-9219deaf8034",
   "metadata": {},
   "outputs": [
    {
     "name": "stdout",
     "output_type": "stream",
     "text": [
      "A1: soda - $1.25\n",
      "B2: chips - $1.00\n",
      "C3: candy - $1.30\n",
      "D4: water - $1.35\n"
     ]
    },
    {
     "name": "stdin",
     "output_type": "stream",
     "text": [
      "Enter the code of the item you want:  A1\n",
      "The price is $1.25. Enter the amount:  2\n"
     ]
    },
    {
     "name": "stdout",
     "output_type": "stream",
     "text": [
      "Dispensing soda.\n",
      "Take your change: $0.75\n"
     ]
    }
   ],
   "source": [
    "def display_items():\n",
    "    items = {\n",
    "        \"A1\": {\"name\": \"soda\", \"price\": 1.2500},\n",
    "        \"B2\": {\"name\": \"chips\", \"price\": 1.00},\n",
    "        \"C3\": {\"name\": \"candy\", \"price\": 1.30},\n",
    "        \"D4\": {\"name\": \"water\", \"price\": 1.35}\n",
    "    }\n",
    "    for code, item in items.items():\n",
    "        print(f\"{code}: {item['name']} - ${item['price']:.2f}\")\n",
    "    return items\n",
    "\n",
    "def select_item(items):\n",
    "    code = input(\"Enter the code of the item you want: \").upper()\n",
    "    return items.get(code, \"Invalid code\")\n",
    "\n",
    "def process_payment(price):1\n",
    "    amount_paid = float(input(f\"The price is ${price:.2f}. Enter the amount: \"))\n",
    "    return amount_paid - price if amount_paid >= price else \"Insufficient amount\"\n",
    "\n",
    "def vending_machine():\n",
    "    items = display_items()\n",
    "    item = select_item(items)\n",
    "    if item == \"Invalid code\":\n",
    "        print(item)\n",
    "        return\n",
    "    change = process_payment(item['price'])\n",
    "    if change == \"Insufficient amount\":\n",
    "        print(change)\n",
    "        return\n",
    "    print(f\"Dispensing {item['name']}.\")\n",
    "    if change > 0:\n",
    "        print(f\"Take your change: ${change:.2f}\")\n",
    "\n",
    "vending_machine()\n"
   ]
  },
  {
   "cell_type": "code",
   "execution_count": null,
   "id": "59833bda-ca7e-40d8-9f90-82153bf06483",
   "metadata": {},
   "outputs": [],
   "source": [
    "def display_items():\n",
    "    dict11={"
   ]
  },
  {
   "cell_type": "code",
   "execution_count": 96,
   "id": "a90e2c5e-ebaa-4076-8972-70c23a6851a3",
   "metadata": {},
   "outputs": [
    {
     "name": "stdout",
     "output_type": "stream",
     "text": [
      "w\n"
     ]
    }
   ],
   "source": [
    "str1=\"swiss\"\n",
    "def nonrepeat(str1):\n",
    "    for i in str1:\n",
    "        if str1.count(i)==1:\n",
    "            print(i)\n",
    "            break\n",
    "nonrepeat(str1)\n"
   ]
  },
  {
   "cell_type": "code",
   "execution_count": 95,
   "id": "e4a0ad97-2b57-485e-8dbd-b902335a2522",
   "metadata": {},
   "outputs": [
    {
     "name": "stdin",
     "output_type": "stream",
     "text": [
      "enter a word== swiss\n"
     ]
    },
    {
     "name": "stdout",
     "output_type": "stream",
     "text": [
      "s\n",
      "w\n",
      "i\n",
      "s\n",
      "s\n"
     ]
    }
   ],
   "source": []
  },
  {
   "cell_type": "code",
   "execution_count": 107,
   "id": "66dbba5c-4e2a-477e-a70a-38e658c4f685",
   "metadata": {},
   "outputs": [
    {
     "name": "stdout",
     "output_type": "stream",
     "text": [
      "w\n"
     ]
    }
   ],
   "source": [
    "def nonrepeat(str1):\n",
    "    char_count = {}\n",
    "    for char in str1:\n",
    "        if char in char_count:\n",
    "            char_count[char] += 1\n",
    "        else:\n",
    "            char_count[char] = 1  \n",
    "    for char in str1:\n",
    "        if char_count[char] == 1:\n",
    "           print(char)\n",
    "           break\n",
    "str1 = \"swiss\"\n",
    "result = nonrepeat(str1)\n",
    "# if result:\n",
    "#     print(f\"The first non-repeated character is: {result}\")\n",
    "# else:\n",
    "#     print(\"No non-repeated character found.\")\n"
   ]
  },
  {
   "cell_type": "code",
   "execution_count": 115,
   "id": "ba45e3b9-f0e4-4a91-92bb-7431f9099d4e",
   "metadata": {},
   "outputs": [
    {
     "name": "stdin",
     "output_type": "stream",
     "text": [
      "input enter ur name= 2\n"
     ]
    },
    {
     "name": "stdout",
     "output_type": "stream",
     "text": [
      "good morning boss....\n",
      "good morning boss....\n"
     ]
    }
   ],
   "source": [
    "def main():\n",
    "    time=int(input(\"input enter ur name=\"))\n",
    "    def morning(time):\n",
    "        if 0<time<=12:\n",
    "            print(\"good morning boss....\")\n",
    "    def afternoon(time):\n",
    "        if 12<time<=14:\n",
    "            print(\"good morning boss....\")\n",
    "    def evening(time):\n",
    "        if 14 <time<=19:\n",
    "            print(\"good morning boss....\")\n",
    "    def night(time):\n",
    "        if 19<time<=24:\n",
    "            print(\"good morning boss....\")\n",
    "    morning(time)\n",
    "    evening(time) \n",
    "    night(time)\n",
    "    morning(time)\n",
    "    afternoon(time)\n",
    "main()"
   ]
  },
  {
   "cell_type": "code",
   "execution_count": null,
   "id": "85b0e351-cf9c-4102-a662-5487a46f8cd8",
   "metadata": {},
   "outputs": [],
   "source": []
  }
 ],
 "metadata": {
  "kernelspec": {
   "display_name": "Python 3 (ipykernel)",
   "language": "python",
   "name": "python3"
  },
  "language_info": {
   "codemirror_mode": {
    "name": "ipython",
    "version": 3
   },
   "file_extension": ".py",
   "mimetype": "text/x-python",
   "name": "python",
   "nbconvert_exporter": "python",
   "pygments_lexer": "ipython3",
   "version": "3.13.1"
  }
 },
 "nbformat": 4,
 "nbformat_minor": 5
}
