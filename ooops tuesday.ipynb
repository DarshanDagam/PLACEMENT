{
 "cells": [
  {
   "cell_type": "markdown",
   "id": "e1ce9db3-1a98-4ea0-bebe-3e7dc7a82195",
   "metadata": {},
   "source": [
    "# r"
   ]
  },
  {
   "cell_type": "code",
   "execution_count": null,
   "id": "6f027e3e-4538-4e22-8ac4-dde9283fdc9a",
   "metadata": {},
   "outputs": [],
   "source": [
    "print(\"get songs \")"
   ]
  },
  {
   "cell_type": "code",
   "execution_count": null,
   "id": "58766521-d8f0-473f-8b41-06a7f9fb7550",
   "metadata": {},
   "outputs": [],
   "source": [
    "class Car:\n",
    "    def __init__(self,model,year,color,for_sale):\n",
    "        self.model1=model #attributes\n",
    "        self.year1=year  #attributes\n",
    "        self.color1=color #attributes\n",
    "        self.for_sale1=for_sale\n",
    "# creating objects        \n",
    "car1=Car(\"swift\",2024,\"blue\",True)\n",
    "#accesing attributes\n",
    "print(car1.model1)\n",
    "print(car1.year1)\n",
    "print(car1.color1)\n",
    "print(car1.for_sale1)"
   ]
  },
  {
   "cell_type": "code",
   "execution_count": null,
   "id": "e027f7aa-db7e-4e8a-a7cc-5a366aeef9be",
   "metadata": {},
   "outputs": [],
   "source": [
    "class Dog:\n",
    "    def __init__(self,name,breed,loyalty):\n",
    "        self.name=name\n",
    "        self.breed=breed\n",
    "        self.loyalty=loyalty\n",
    "    def bark(self):\n",
    "        return f\"{self.name} is barking!!\"\n",
    "Dog1=Dog(\"PUPPY\",\"GOLDENRETRIVER\",\"faithfulness\")\n",
    "print(Dog1.name)\n",
    "print(Dog1.breed)\n",
    "print(Dog1.loyalty)\n",
    "\n",
    "print(Dog1.bark())"
   ]
  },
  {
   "cell_type": "code",
   "execution_count": null,
   "id": "188d3430-6104-4ef5-8d4a-9d20645dfd3b",
   "metadata": {},
   "outputs": [],
   "source": [
    "class Book:\n",
    "    def __init__(self,title,author,price):\n",
    "        self.title=title\n",
    "        self.author=author\n",
    "        self.price=price\n",
    "book1=Book(\"wings of fire\",\"apj kalam\",200)\n",
    "book2=Book(\"ELECTRICAL MACHINES\",\"BL THERAJA\",4500)\n",
    "book3=Book(\"the great gatsby\",\"scott\",400)\n",
    "#PRINT DETAILS\n",
    "print(f\"{book1.title} by{book1.author},price={book1.price}\")\n",
    "print(f\"{book2.title} by{book2.author},price={book2.price}\")\n",
    "print(f\"{book3.title} by{book3.author},price={book3.price}\")\n"
   ]
  },
  {
   "cell_type": "code",
   "execution_count": null,
   "id": "11c2d149-4ee0-42b1-9232-c31faf8f8a1d",
   "metadata": {},
   "outputs": [],
   "source": [
    "class Student:\n",
    "    def __init__(self,name,marks):\n",
    "        self.name=name\n",
    "        self.marks=marks\n",
    "    def display_details(self):\n",
    "        print(f\"student name:{self.name},marks:{self.marks}\")\n",
    "#creating objects\n",
    "student1=Student(\"darshan\",60)\n",
    "student2=Student(\"pranay\",100)\n",
    "student3=Student(\"dinesh\",200)\n",
    "#xcalling method \n",
    "student1.display_details()\n",
    "student2.display_details()"
   ]
  },
  {
   "cell_type": "code",
   "execution_count": null,
   "id": "c9d27de3-9eed-4a63-abf4-9cf7ef9fdd01",
   "metadata": {},
   "outputs": [],
   "source": [
    "class Laptop:\n",
    "    def __init__(self,brand,model,price):\n",
    "        self.brand=brand\n",
    "        self.model=model\n",
    "        self.price=price\n",
    "l1=Laptop(\"asus\",\"vivo book 15\",33500)\n",
    "print(f\"before the update brand :{l1.brand} \\t model:{l1.model},\\tprice:{l1.price}\")\n",
    "l1.price=50000\n",
    "print(f\"after the update brand :{l1.brand} \\t model: {l1.model},\\tprice:{l1.price}\")"
   ]
  },
  {
   "cell_type": "code",
   "execution_count": null,
   "id": "93a635c6-2795-4ae2-b2ae-68351c001a7d",
   "metadata": {},
   "outputs": [],
   "source": [
    "class Rectangle:\n",
    "    def __init__(self,length,breadth):\n",
    "        self.length=length\n",
    "        self.breadth=breadth\n",
    "    def area_of_rectangle(self):\n",
    "        return self.length*self.breadth\n",
    "    def permeter(self):\n",
    "        return 2*(self.length+self.breadth)\n",
    "    \n",
    "#creating objects\n",
    "r1=Rectangle(10,20)\n",
    "r3=Rectangle(13,13)\n",
    "p1=Rectangle(10,20)\n",
    "p3=Rectangle(13,13)\n",
    "print(f\"AREA OF RECTANGLE==={r1.area_of_rectangle()}\")\n",
    "print(f\"AREA OF RECTANGLE==={r3.area_of_rectangle()}\")\n",
    "print(f\"PERIMETER OF RECTANGLE==={r1.permeter()}\")\n",
    "print(f\"PERIMETER OF RECTANGLE==={r3.permeter()}\")"
   ]
  },
  {
   "cell_type": "code",
   "execution_count": 30,
   "id": "06024cd0-c6c7-4740-bb67-a36c70561858",
   "metadata": {},
   "outputs": [
    {
     "name": "stdout",
     "output_type": "stream",
     "text": [
      "model==indigo\t makes==TATA\tyear==2024\n"
     ]
    }
   ],
   "source": [
    "class Car:\n",
    "    def __init__(self,model,makes,year):\n",
    "        self.model=model\n",
    "        self.makes=makes\n",
    "        self.year=year\n",
    "    def display_details(self):\n",
    "        print(f\"model=={self.model}\\t makes=={self.makes}\\tyear=={self.year}\")\n",
    "d1=Car(\"indigo\",\"TATA\",2024)\n",
    "d1.display_details()"
   ]
  },
  {
   "cell_type": "code",
   "execution_count": 35,
   "id": "42b33f65-678e-44fc-9db2-b55349b9a039",
   "metadata": {},
   "outputs": [
    {
     "name": "stdout",
     "output_type": "stream",
     "text": [
      "NAME:saivikas\n",
      "AGE:25\n",
      "NAME:darshan\n",
      "AGE:18\n"
     ]
    }
   ],
   "source": [
    "class Person:\n",
    "    def __init__(self,name,age=18):\n",
    "        self.name=name\n",
    "        self.age=age\n",
    "p1=Person(\"saivikas\",25)\n",
    "p2=Person(\"darshan\")\n",
    "print(f\"NAME:{p1.name}\\nAGE:{p1.age}\")\n",
    "print(f\"NAME:{p2.name}\\nAGE:{p2.age}\")\n"
   ]
  },
  {
   "cell_type": "code",
   "execution_count": 38,
   "id": "564da4c4-142f-4e89-929f-dc6f93a5027b",
   "metadata": {},
   "outputs": [
    {
     "name": "stdout",
     "output_type": "stream",
     "text": [
      "NAME:saivikas\n",
      "AGE:25\n",
      "NAME:darshan\n",
      "AGE:18\n"
     ]
    }
   ],
   "source": [
    "class Person:\n",
    "    def __init__(self,name,age=18):\n",
    "        self.name=name\n",
    "        self.age=age\n",
    "    def display(self):\n",
    "        print(f\"NAME:{self.name}\\nAGE:{self.age}\")\n",
    "p1=Person(\"saivikas\",25)\n",
    "p2=Person(\"darshan\")\n",
    "p1.display()\n",
    "p2.display()\n"
   ]
  },
  {
   "cell_type": "code",
   "execution_count": null,
   "id": "c5f77a40-1bd7-4f91-a774-9679612e5a39",
   "metadata": {},
   "outputs": [],
   "source": [
    "class Person:\n",
    "    def __init__(self,name,age=18):\n",
    "        self.name=name\n",
    "        self.age=age\n",
    "    def display(self):\n",
    "        print(f\"NAME:{self.name}\\nAGE:{self.age}\")\n",
    "p1=Person(\"saivikas\",25)\n",
    "p2=Person(\"darshan\")\n",
    "p1.display()\n",
    "p2.display()"
   ]
  },
  {
   "cell_type": "code",
   "execution_count": null,
   "id": "8c8590ff-13cc-4ddd-94a7-984f3ea4e97f",
   "metadata": {},
   "outputs": [],
   "source": [
    "# Parent class\n",
    "class Person:\n",
    "    def __init__(self, fname, lname):\n",
    "        self.firstname = fname\n",
    "        self.lastname = lname\n",
    "\n",
    "    def printname(self):\n",
    "        print(self.firstname, self.lastname)\n",
    "\n",
    "# Child class\n",
    "class Student(Person):\n",
    "    def __init__(self, fname, lname, graduationyear):\n",
    "        super().__init__(fname, lname)\n",
    "        self.graduationyear = graduationyear\n",
    "\n",
    "    def welcome(self):\n",
    "        print(f\"Welcome {self.firstname} {self.lastname} to the class of {self.graduationyear}\")\n",
    "\n",
    "# Create an object of the Student class\n",
    "x = Student(\"John\", \"Doe\", 2024)\n",
    "x.printname()\n",
    "x.welcome()\n"
   ]
  },
  {
   "cell_type": "code",
   "execution_count": 41,
   "id": "4e7e91c6-eaac-4b02-9d76-bddebde29504",
   "metadata": {},
   "outputs": [
    {
     "name": "stdout",
     "output_type": "stream",
     "text": [
      "height:15\tweight:20\tcolor:white\tage:25\n"
     ]
    }
   ],
   "source": [
    "class Dinesh:\n",
    "    def __init__(self,height,weight,color,age):\n",
    "        self.height=height\n",
    "        self.weight=weight\n",
    "        self.color=color\n",
    "        self.age=age\n",
    "    def display(self):\n",
    "        print(f\"height:{self.height}\\tweight:{self.weight}\\tcolor:{self.color}\\tage:{self.age}\")\n",
    "x1=Dinesh(15,20,\"white\",25)\n",
    "x1.display()\n",
    "# x1.color()"
   ]
  },
  {
   "cell_type": "code",
   "execution_count": 46,
   "id": "6fc60b2b-186f-4bb7-a551-cfd37b0f4912",
   "metadata": {},
   "outputs": [
    {
     "name": "stdout",
     "output_type": "stream",
     "text": [
      "total objects created:3\n"
     ]
    }
   ],
   "source": [
    "class Counter:\n",
    "    count=0\n",
    "    def __init__(self):\n",
    "        Counter.count+=1\n",
    "obj1=Counter()\n",
    "obj2=Counter()\n",
    "obj3=Counter()\n",
    "print(f\"total objects created:{Counter.count}\") "
   ]
  },
  {
   "cell_type": "code",
   "execution_count": null,
   "id": "86ed6242-ff60-45bc-b796-eae918432e89",
   "metadata": {},
   "outputs": [],
   "source": [
    "class Counter:\n",
    "    count=0\n",
    "    def __init__(self):\n",
    "        Counter.count+=1\n",
    "obj1=Counter()\n",
    "obj2=Counter()\n",
    "obj3=Counter()\n",
    "print(f\"total objects created:{Counter.count}\") "
   ]
  },
  {
   "cell_type": "code",
   "execution_count": 48,
   "id": "c8afde5e-fbbc-4a92-9038-357cf86792e1",
   "metadata": {},
   "outputs": [
    {
     "name": "stdout",
     "output_type": "stream",
     "text": [
      "total objects created==2\n"
     ]
    }
   ],
   "source": [
    "class Person:\n",
    "    count=0\n",
    "    def __init__(self,name,age):\n",
    "        Person.count+=1\n",
    "        self.name=name\n",
    "        self.age=age\n",
    "object1=Person(\"saivikas chekka\",100)\n",
    "object2=Person(\"uijhko\",320)\n",
    "print(f\"total objects created=={Person.count}\")"
   ]
  },
  {
   "cell_type": "code",
   "execution_count": 66,
   "id": "35c570b7-d64a-407c-b665-af5c85390916",
   "metadata": {},
   "outputs": [
    {
     "name": "stdout",
     "output_type": "stream",
     "text": [
      "----------------------------WELCOME TO HDFC BANK--------------------------------------\n",
      "name:sai\twithdraw:30\tReamining new balance==70\n",
      "----------------------------WELCOME TO HDFC BANK-------------------------------------------\n",
      "name:sai\tdeposited:50\tReamining new balance==120\n"
     ]
    }
   ],
   "source": [
    "class Bank_Account:\n",
    "    def __init__(self,name,account_holder,balance):\n",
    "        self.name=name\n",
    "        self.account_holder=account_holder\n",
    "        self.balance=balance\n",
    "    def withdraw(self,amount):\n",
    "        self.amount=amount\n",
    "        if self.balance>0:\n",
    "            self.balance-=self.amount\n",
    "            print(\"----------------------------WELCOME TO HDFC BANK--------------------------------------\")\n",
    "            print(f\"name:{self.name}\\twithdraw:{self.amount}\\tReamining new balance=={self.balance}\")\n",
    "        else:\n",
    "            print(\"insufficient balance.....1\")\n",
    "    def deposit(self,amount):\n",
    "        self.amount=amount\n",
    "        self.balance+=self.amount\n",
    "        print(\"----------------------------WELCOME TO HDFC BANK-------------------------------------------\")\n",
    "        print(f\"name:{self.name}\\tdeposited:{self.amount}\\tReamining new balance=={self.balance}\")\n",
    "b1=Bank_Account(\"sai\",123,100)\n",
    "b1.withdraw(30)\n",
    "b1.deposit(50)"
   ]
  },
  {
   "cell_type": "code",
   "execution_count": 5,
   "id": "246e0c16-9834-4b81-8339-2c8f4e7ddc6e",
   "metadata": {},
   "outputs": [
    {
     "name": "stdout",
     "output_type": "stream",
     "text": [
      "the distance between points is 3.605551275463989\n"
     ]
    }
   ],
   "source": [
    "import math\n",
    "\n",
    "class Point:\n",
    "    def __init__(self,x,y):\n",
    "        self.x=x\n",
    "        self.y=y\n",
    "    def distance_to(self,other_point):\n",
    "        # self.other_point=other_point\n",
    "        return math.sqrt((self.x-other_point.x)**2+(self.y-other_point.y)**2)\n",
    "pp1=Point(4,5)\n",
    "pp2=Point(6,8)\n",
    "distance=pp1.distance_to(pp2)\n",
    "print(f\"the distance between points is {distance}\")"
   ]
  },
  {
   "cell_type": "code",
   "execution_count": 6,
   "id": "b414644d-f8ab-4390-bf5d-1b2a5d185a9c",
   "metadata": {},
   "outputs": [
    {
     "name": "stdout",
     "output_type": "stream",
     "text": [
      "3.605551275463989\n"
     ]
    }
   ],
   "source": [
    "import math as mt\n",
    "print(mt.sqrt(13))"
   ]
  },
  {
   "cell_type": "code",
   "execution_count": 8,
   "id": "f315b5ba-8df5-44df-8a0f-f524899a3149",
   "metadata": {},
   "outputs": [
    {
     "name": "stdout",
     "output_type": "stream",
     "text": [
      "CIRCLE TWO IS LARGE------------------\n"
     ]
    }
   ],
   "source": [
    "class Circle:\n",
    "    def __init__(self,radius):\n",
    "        self.radius=radius\n",
    "        \n",
    "circle1=Circle(2)\n",
    "circle2=Circle(5)\n",
    "if circle1.radius>circle2.radius:\n",
    "    print(\"CIRCLE ONE IS LARGE------------------\")\n",
    "elif circle1.radius<circle2.radius:\n",
    "    print(\"CIRCLE TWO IS LARGE------------------\")\n",
    "else:\n",
    "    print(\"BOTH CIRCLES ARE SAME SIZE-------------\")"
   ]
  },
  {
   "cell_type": "code",
   "execution_count": null,
   "id": "cebd3f7b-c619-4438-83de-d34565ff3e08",
   "metadata": {},
   "outputs": [],
   "source": [
    "class Sp():\n",
    "    def ___init__(self,time,d):\n",
    "        self.time=time\n",
    "        self.d=d\n",
    "    def speed_cal(self,speed)"
   ]
  },
  {
   "cell_type": "code",
   "execution_count": 15,
   "id": "027fb5c1-96d1-4377-be8d-3c4b649d15bf",
   "metadata": {},
   "outputs": [
    {
     "name": "stdout",
     "output_type": "stream",
     "text": [
      "a\n",
      "b\n",
      "a\n"
     ]
    }
   ],
   "source": [
    "class Student:\n",
    "    def __init__(s,name,marks):\n",
    "        s.name=name\n",
    "        s.marks=marks\n",
    "    def get_score(s):\n",
    "        for i in s.marks:\n",
    "            if i>900:\n",
    "               print( \"a\")\n",
    "            else:\n",
    "             print(\"b\")\n",
    "S1=Student(\"gjhg\",[1100,300,4000])\n",
    "S1.get_score()\n",
    "        #     grade=A+\n",
    "        # elif m"
   ]
  },
  {
   "cell_type": "code",
   "execution_count": 25,
   "id": "bd5bdfae-23b9-46af-af07-ac8540585a3b",
   "metadata": {},
   "outputs": [
    {
     "name": "stdout",
     "output_type": "stream",
     "text": [
      "grade==C\n"
     ]
    }
   ],
   "source": [
    "class Student:\n",
    "    def __init__(s,n,m):\n",
    "        s.n=n\n",
    "        s.m=m\n",
    "    def get_grade(s):\n",
    "        # s.m=m\n",
    "        s.avg=sum(s.m)/len(s.m)\n",
    "        if s.avg>1000:\n",
    "            print(\"grade==A+\")\n",
    "        elif 700<s.avg<1000:\n",
    "            print(\"grade==A\")\n",
    "        elif 500<s.avg<=700:\n",
    "            print(\"grade==B\")\n",
    "        elif 200<s.avg<=500:\n",
    "            print(\"grade==C\")\n",
    "        else:\n",
    "            print(\"YOU HAVE FAILED THE EXAM-----\")\n",
    "PK1=Student(\"sai\",[100,300,700])\n",
    "PK1.get_grade()"
   ]
  },
  {
   "cell_type": "code",
   "execution_count": 24,
   "id": "20d15bef-c10d-4ace-a03e-7bfcd8771fd6",
   "metadata": {},
   "outputs": [
    {
     "name": "stdout",
     "output_type": "stream",
     "text": [
      "grade==C\n"
     ]
    }
   ],
   "source": [
    "class Student:\n",
    "    def __init__(s,n,*m):\n",
    "        s.n=n\n",
    "        s.m=m\n",
    "    def get_grade(s):\n",
    "        # s.m=m\n",
    "        s.avg=sum(s.m)/len(s.m)\n",
    "        if s.avg>1000:\n",
    "            print(\"grade==A+\")\n",
    "        elif 700<s.avg<1000:\n",
    "            print(\"grade==A\")\n",
    "        elif 500<s.avg<=700:\n",
    "            print(\"grade==B\")\n",
    "        elif 200<s.avg<=500:\n",
    "            print(\"grade==C\")\n",
    "        else:\n",
    "            print(\"YOU HAVE FAILED THE EXAM-----\")\n",
    "PK1=Student(\"sai\",100,300,700)\n",
    "PK1.get_grade()"
   ]
  },
  {
   "cell_type": "code",
   "execution_count": null,
   "id": "a08e3f68-dd46-479a-b830-235ae7826c26",
   "metadata": {},
   "outputs": [],
   "source": [
    "print('DARSFGAB')"
   ]
  }
 ],
 "metadata": {
  "kernelspec": {
   "display_name": "Python 3 (ipykernel)",
   "language": "python",
   "name": "python3"
  },
  "language_info": {
   "codemirror_mode": {
    "name": "ipython",
    "version": 3
   },
   "file_extension": ".py",
   "mimetype": "text/x-python",
   "name": "python",
   "nbconvert_exporter": "python",
   "pygments_lexer": "ipython3",
   "version": "3.13.1"
  }
 },
 "nbformat": 4,
 "nbformat_minor": 5
}
