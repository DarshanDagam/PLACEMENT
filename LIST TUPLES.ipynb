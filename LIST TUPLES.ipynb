{
 "cells": [
  {
   "cell_type": "code",
   "execution_count": 1,
   "id": "cb92e858-636c-405d-a901-4b07a57f4cc9",
   "metadata": {},
   "outputs": [
    {
     "name": "stdout",
     "output_type": "stream",
     "text": [
      "[]\n",
      "<class 'list'>\n"
     ]
    }
   ],
   "source": [
    "#empty list \n",
    "a=[]\n",
    "print(a)\n",
    "print(type(a))"
   ]
  },
  {
   "cell_type": "code",
   "execution_count": 2,
   "id": "4112c919-450e-4085-9567-ad85128997d9",
   "metadata": {},
   "outputs": [
    {
     "name": "stdout",
     "output_type": "stream",
     "text": [
      "[10, 20, 30, 40, 50]\n",
      "<class 'list'>\n"
     ]
    }
   ],
   "source": [
    "#HOMOGENEOUS \n",
    "a=[10,20,30,40,50]\n",
    "print(a)\n",
    "print(type(a))"
   ]
  },
  {
   "cell_type": "code",
   "execution_count": 4,
   "id": "1d3c01d3-90ed-420a-9c49-9d8b34f0d28b",
   "metadata": {},
   "outputs": [
    {
     "name": "stdout",
     "output_type": "stream",
     "text": [
      "['darshan', 20, 20.5, True, False]\n",
      "<class 'list'>\n"
     ]
    }
   ],
   "source": [
    "#HETEROGENEOUS \n",
    "a=[\"darshan\",20,20.5,True,False]\n",
    "print(a)\n",
    "print(type(a))"
   ]
  },
  {
   "cell_type": "code",
   "execution_count": 5,
   "id": "8d408287-1f9d-4372-b473-565e3376278b",
   "metadata": {},
   "outputs": [
    {
     "name": "stdin",
     "output_type": "stream",
     "text": [
      "enter the no= 20\n"
     ]
    },
    {
     "name": "stdout",
     "output_type": "stream",
     "text": [
      "20\n",
      "<class 'int'>\n"
     ]
    }
   ],
   "source": [
    "a=eval(input(\"enter the no=\"))\n",
    "print(a)\n",
    "print(type(a))"
   ]
  },
  {
   "cell_type": "code",
   "execution_count": 7,
   "id": "53985db5-2ca3-4892-afd7-52a8cb77d956",
   "metadata": {},
   "outputs": [
    {
     "name": "stdout",
     "output_type": "stream",
     "text": [
      "one\n"
     ]
    }
   ],
   "source": [
    "# INDEXING AND SLICING\n",
    "my_list=list((\"one\",\"trwo\",\"three\"))\n",
    "print(my_list[0])"
   ]
  },
  {
   "cell_type": "code",
   "execution_count": 8,
   "id": "0228cb2b-878c-4dbf-95e8-fdc1f79ee6c2",
   "metadata": {},
   "outputs": [
    {
     "name": "stdout",
     "output_type": "stream",
     "text": [
      "[10, 20, 30, 40, 50, 60]\n"
     ]
    }
   ],
   "source": [
    "a=[10,20,30,40,50,60]\n",
    "print(a[::])"
   ]
  },
  {
   "cell_type": "code",
   "execution_count": 10,
   "id": "7468bc6b-4961-4976-a4ea-0f837c5375bd",
   "metadata": {},
   "outputs": [
    {
     "name": "stdout",
     "output_type": "stream",
     "text": [
      "[60, 50, 40, 30, 20, 10]\n"
     ]
    }
   ],
   "source": [
    "a=[10,20,30,40,50,60]\n",
    "print(a[::-1])\n"
   ]
  },
  {
   "cell_type": "code",
   "execution_count": 11,
   "id": "3b58d6a6-a013-4f06-9499-c6a9e018dc42",
   "metadata": {},
   "outputs": [
    {
     "name": "stdout",
     "output_type": "stream",
     "text": [
      "[10, 30, 50]\n"
     ]
    }
   ],
   "source": [
    "a=[10,20,30,40,50,60]\n",
    "print(a[0:5:2])\n"
   ]
  },
  {
   "cell_type": "code",
   "execution_count": 14,
   "id": "40e17711-95e9-4227-9593-bf2e81f151f6",
   "metadata": {},
   "outputs": [
    {
     "name": "stdout",
     "output_type": "stream",
     "text": [
      "[10, 20, 30, 40, 50, 60]\n"
     ]
    }
   ],
   "source": [
    "a=[10,20,30,40,50,60]\n",
    "print(a[-6::])"
   ]
  },
  {
   "cell_type": "code",
   "execution_count": 30,
   "id": "0c943898-f9e7-4151-b3c6-76ff301e0faa",
   "metadata": {},
   "outputs": [
    {
     "name": "stdout",
     "output_type": "stream",
     "text": [
      "[10, 20, 30, 40, 50, 60]\n",
      "10\n",
      "10\n",
      "10\n",
      "10\n",
      "20\n",
      "30\n",
      "40\n",
      "50\n",
      "60\n"
     ]
    }
   ],
   "source": [
    "a=[10,20,30,40,50,60]\n",
    "print(a[-6:10:])\n",
    "print(a[-6])\n",
    "print(a[0])\n",
    "print(a[-6])\n",
    "for nums in a:\n",
    "    print(nums)\n",
    "#"
   ]
  },
  {
   "cell_type": "code",
   "execution_count": 41,
   "id": "fba63274-75c1-4f06-b5d6-ec1b2800337d",
   "metadata": {},
   "outputs": [
    {
     "name": "stdout",
     "output_type": "stream",
     "text": [
      "[60, 50, 40, 30, 20, 10]\n",
      "[10, 20, 30, 40, 50, 60]\n"
     ]
    }
   ],
   "source": [
    "a=[10,20,30,40,50,60]\n",
    "#a.sort(reverse=False)\n",
    "a.sort(reverse=True)\n",
    "print(a[::-1])\n",
    "print(a)"
   ]
  },
  {
   "cell_type": "code",
   "execution_count": 122,
   "id": "606fa5c2-3490-4a84-8a06-1a681e834945",
   "metadata": {},
   "outputs": [
    {
     "name": "stdout",
     "output_type": "stream",
     "text": [
      "None\n",
      "[10, 20, 30, 40, 50, 60, 10, 2024]\n"
     ]
    }
   ],
   "source": [
    "a=[10,20,30,40,50,60,10]\n",
    "# print(a.append(1024))\n",
    "print(a.insert(8,2024))\n",
    "# a.remove(40)\n",
    "# a.pop(1)\n",
    "# b=a.copy()\n",
    "# c=a.count(10)\n",
    "print(a)\n",
    "# print(b)\n",
    "# print(c)\n"
   ]
  },
  {
   "cell_type": "code",
   "execution_count": 76,
   "id": "423b249d-531a-4101-8bf6-e70d3bc5bba3",
   "metadata": {},
   "outputs": [
    {
     "name": "stdout",
     "output_type": "stream",
     "text": [
      "6\n",
      "60\n",
      "10\n",
      "[10, 20, 30, 40, 50, 60, 1000]\n"
     ]
    }
   ],
   "source": [
    "a=[10,20,30,40,50,60]\n",
    "# a+[\"darshan\"]\n",
    "print(len(a))\n",
    "# max(a)\n",
    "print(max(a))\n",
    "# print(a)\n",
    "print(min(a))\n",
    "a.append(10)\n",
    "print(a)"
   ]
  },
  {
   "cell_type": "code",
   "execution_count": 80,
   "id": "9341b54d-c898-4939-bd2b-b185beaf5794",
   "metadata": {},
   "outputs": [
    {
     "name": "stdout",
     "output_type": "stream",
     "text": [
      "[10, 20, 30, 40, 50, 60, 5000]\n",
      "[10, 20, 30, 40, 50, 60]\n"
     ]
    }
   ],
   "source": [
    "a=[10,20,30,40,50,60]\n",
    "a.insert(7,5000)\n",
    "print(a)\n",
    "a.pop()\n",
    "print(a)"
   ]
  },
  {
   "cell_type": "code",
   "execution_count": 124,
   "id": "1d3b5c5e-501d-43d6-9eaa-4c7e00e53d50",
   "metadata": {},
   "outputs": [
    {
     "name": "stdout",
     "output_type": "stream",
     "text": [
      "[10, 30, 40, 50, 60]\n"
     ]
    }
   ],
   "source": [
    "a=[10,20,30,40,50,60]\n",
    "a.pop(1)\n",
    "print(a)"
   ]
  },
  {
   "cell_type": "code",
   "execution_count": 90,
   "id": "2eedec99-a806-4b97-903b-9f8a26b2d299",
   "metadata": {},
   "outputs": [
    {
     "name": "stdout",
     "output_type": "stream",
     "text": [
      "[10, 20, 30, 40, 50, 60, 30, 50, 60]\n"
     ]
    }
   ],
   "source": [
    "a=[10,20,30,40,50,60]\n",
    "b=[30,50,60]\n",
    "a.extend(b)\n",
    "print(a)"
   ]
  },
  {
   "cell_type": "code",
   "execution_count": 94,
   "id": "c39cd2f3-f4c1-491b-98fa-51c8b8cd1d7c",
   "metadata": {},
   "outputs": [
    {
     "name": "stdout",
     "output_type": "stream",
     "text": [
      "[10, 20, 40, 50, 60]\n"
     ]
    }
   ],
   "source": [
    "a=[10,20,30,40,50,60]\n",
    "b=[30,50,60]\n",
    "a.remove(30)\n",
    "#print(a.remove(30))\n",
    "print(a)"
   ]
  },
  {
   "cell_type": "code",
   "execution_count": 97,
   "id": "e4b81ffc-08f9-4be9-ab48-4ea99c4c350e",
   "metadata": {},
   "outputs": [
    {
     "name": "stdout",
     "output_type": "stream",
     "text": [
      "[]\n"
     ]
    }
   ],
   "source": [
    "a=[10,20,30,40,50,60]\n",
    "b=[30,50,60]\n",
    "a.clear()\n",
    "# print(a.clear())\n",
    "print(a)"
   ]
  },
  {
   "cell_type": "code",
   "execution_count": 100,
   "id": "0b12bb40-ff7a-42ea-8299-69fe2e36b7c8",
   "metadata": {},
   "outputs": [
    {
     "name": "stdout",
     "output_type": "stream",
     "text": [
      "[10, 20, 30, 40, 50, 60]\n"
     ]
    }
   ],
   "source": [
    "a=[10,20,30,40,50,60]\n",
    "b=[30,50,60]\n",
    "c=a.copy()\n",
    "# print(c=a.copy())\n",
    "print(c)"
   ]
  },
  {
   "cell_type": "code",
   "execution_count": 102,
   "id": "6a5dcaac-9326-4c39-a01b-62365b844626",
   "metadata": {},
   "outputs": [
    {
     "name": "stdout",
     "output_type": "stream",
     "text": [
      "[60, 50, 40, 30, 20, 10]\n"
     ]
    }
   ],
   "source": [
    "a=[10,20,30,40,50,60]\n",
    "b=[30,50,60]\n",
    "a.reverse()\n",
    "# print(c=a.copy())\n",
    "print(a)"
   ]
  },
  {
   "cell_type": "code",
   "execution_count": 104,
   "id": "b0e14ab5-d9f9-4f4b-9e8e-1d6afb8281cc",
   "metadata": {},
   "outputs": [
    {
     "name": "stdout",
     "output_type": "stream",
     "text": [
      "3\n",
      "[10, 20, 30, 40, 50, 60, 10, 10]\n"
     ]
    }
   ],
   "source": [
    "a=[10,20,30,40,50,60,10,10]\n",
    "b=[30,50,60]\n",
    "# a.count(10)\n",
    "print(a.count(10))\n",
    "print(a)"
   ]
  },
  {
   "cell_type": "code",
   "execution_count": 106,
   "id": "07f4e469-999d-42a9-ac33-ea5ae7639c45",
   "metadata": {},
   "outputs": [
    {
     "name": "stdout",
     "output_type": "stream",
     "text": [
      "None\n",
      "[10, 10, 10, 20, 30, 40, 50, 60]\n"
     ]
    }
   ],
   "source": [
    "a=[10,20,30,40,50,60,10,10]\n",
    "b=[30,50,60]\n",
    "#a.sort()\n",
    "print(a.sort())\n",
    "print(a)"
   ]
  },
  {
   "cell_type": "code",
   "execution_count": 116,
   "id": "9d6e1d1d-a9cc-43c4-a668-dcc81a161aaf",
   "metadata": {},
   "outputs": [
    {
     "name": "stdout",
     "output_type": "stream",
     "text": [
      "6\n"
     ]
    }
   ],
   "source": [
    "a=[10,20,30,40,50,60,10,10]\n",
    "b=[30,50,60]\n",
    "c=a.index(10,4)\n",
    "# print(a.index())\n",
    "print(c)"
   ]
  },
  {
   "cell_type": "code",
   "execution_count": 118,
   "id": "b9745f35-f873-4fb3-a524-104353aff46d",
   "metadata": {},
   "outputs": [
    {
     "name": "stdout",
     "output_type": "stream",
     "text": [
      "330\n"
     ]
    }
   ],
   "source": [
    "a=[10,20,30,40,50,60,10,10]\n",
    "b=[30,50,60]\n",
    "c=sum(a,100)\n",
    "# print(a.index())\n",
    "print(c)"
   ]
  },
  {
   "cell_type": "code",
   "execution_count": 130,
   "id": "cf1ee1f6-1773-451e-a4c0-3e50473f794e",
   "metadata": {},
   "outputs": [
    {
     "name": "stdout",
     "output_type": "stream",
     "text": [
      "<class 'dict'>\n"
     ]
    }
   ],
   "source": [
    "t={\"10\":\"3\",\"DAE\":\"20\",}\n",
    "print(type(t))"
   ]
  },
  {
   "cell_type": "code",
   "execution_count": 132,
   "id": "56f6edef-5911-4061-83df-7bf1cfa2a28c",
   "metadata": {},
   "outputs": [
    {
     "name": "stdout",
     "output_type": "stream",
     "text": [
      "(10, 20, 30, 'saivikas', 'dinesh')\n",
      "<class 'tuple'>\n"
     ]
    }
   ],
   "source": [
    "#INDEXING OF TUPLES\n",
    "t=(10,20,30,\"saivikas\",\"dinesh\")\n",
    "print(t)\n",
    "print(type(t))"
   ]
  },
  {
   "cell_type": "code",
   "execution_count": 134,
   "id": "de3123b7-d99b-47cf-a3ea-1f65fbd99293",
   "metadata": {},
   "outputs": [
    {
     "name": "stdout",
     "output_type": "stream",
     "text": [
      "10\n",
      "20\n",
      "dinesh\n"
     ]
    }
   ],
   "source": [
    "print(t[0])\n",
    "print(t[1])\n",
    "print(t[4])"
   ]
  },
  {
   "cell_type": "code",
   "execution_count": 135,
   "id": "047d93de-f559-496e-91d2-c35a31054694",
   "metadata": {},
   "outputs": [
    {
     "ename": "TypeError",
     "evalue": "'tuple' object does not support item assignment",
     "output_type": "error",
     "traceback": [
      "\u001b[1;31m---------------------------------------------------------------------------\u001b[0m",
      "\u001b[1;31mTypeError\u001b[0m                                 Traceback (most recent call last)",
      "Cell \u001b[1;32mIn[135], line 1\u001b[0m\n\u001b[1;32m----> 1\u001b[0m \u001b[43mt\u001b[49m\u001b[43m[\u001b[49m\u001b[38;5;241;43m0\u001b[39;49m\u001b[43m]\u001b[49m\u001b[38;5;241m=\u001b[39m\u001b[38;5;124m\"\u001b[39m\u001b[38;5;124mdarshan\u001b[39m\u001b[38;5;124m\"\u001b[39m\n\u001b[0;32m      2\u001b[0m \u001b[38;5;28mprint\u001b[39m(t)\n",
      "\u001b[1;31mTypeError\u001b[0m: 'tuple' object does not support item assignment"
     ]
    }
   ],
   "source": [
    "t[0]=\"darshan\"\n",
    "print(t)"
   ]
  },
  {
   "cell_type": "code",
   "execution_count": 140,
   "id": "60b72d01-8df9-4ab7-8c9c-422d94e2e1c3",
   "metadata": {},
   "outputs": [
    {
     "name": "stdout",
     "output_type": "stream",
     "text": [
      "('dinesh', 'saivikas', 30, 20, 10)\n",
      "(10, 20, 30, 'saivikas', 'dinesh')\n",
      "(10, 20, 30, 'saivikas', 'dinesh')\n",
      "(30, 'saivikas', 'dinesh')\n"
     ]
    }
   ],
   "source": [
    "print(t[::-1])\n",
    "print(t[::])\n",
    "print(t[0:10:])\n",
    "print(t[2:10:])\n"
   ]
  },
  {
   "cell_type": "code",
   "execution_count": 144,
   "id": "65d4cb9e-a917-4865-88ce-409445f7dba9",
   "metadata": {},
   "outputs": [
    {
     "name": "stdout",
     "output_type": "stream",
     "text": [
      "(10, 20, 30, 'saivikas', 'dinesh')\n"
     ]
    },
    {
     "data": {
      "text/plain": [
       "4"
      ]
     },
     "execution_count": 144,
     "metadata": {},
     "output_type": "execute_result"
    }
   ],
   "source": [
    "t=(10,20,30,\"saivikas\",\"dinesh\")\n",
    "print(t)\n",
    "t.index(\"saivikas\")\n",
    "t.index(\"dinesh\")"
   ]
  },
  {
   "cell_type": "code",
   "execution_count": 147,
   "id": "dac452d6-47e3-47c4-9aab-2c34045597b7",
   "metadata": {},
   "outputs": [
    {
     "name": "stdout",
     "output_type": "stream",
     "text": [
      "6\n"
     ]
    },
    {
     "data": {
      "text/plain": [
       "2"
      ]
     },
     "execution_count": 147,
     "metadata": {},
     "output_type": "execute_result"
    }
   ],
   "source": [
    "t=(10,20,30,\"saivikas\",\"dinesh\",\"saivikas\")\n",
    "print(len(t))\n",
    "t.count(\"saivikas\")\n",
    "# t.index(\"dinesh\")"
   ]
  },
  {
   "cell_type": "code",
   "execution_count": 150,
   "id": "f343c8cd-285c-4636-a92c-79599d0e798b",
   "metadata": {},
   "outputs": [
    {
     "name": "stdout",
     "output_type": "stream",
     "text": [
      "30\n",
      "10\n"
     ]
    }
   ],
   "source": [
    "t=(10,20,30)\n",
    "print(max(t))\n",
    "print(min(t))"
   ]
  },
  {
   "cell_type": "code",
   "execution_count": 153,
   "id": "28b27522-319f-4f49-92c9-8a90fd12b529",
   "metadata": {},
   "outputs": [
    {
     "name": "stdout",
     "output_type": "stream",
     "text": [
      "(10, 20, 30, 'saivikas', 'dinesh', 'saivikas')\n"
     ]
    }
   ],
   "source": [
    "t=(10,20,30,\"saivikas\",\"dinesh\",\"saivikas\")\n",
    "# print(len(t))\n",
    "# t.insert(0,2300)\n",
    "# t.index(\"dinesh\")\n",
    "print(t)"
   ]
  },
  {
   "cell_type": "code",
   "execution_count": 158,
   "id": "2a177bff-c4b9-4590-8766-e86b61901920",
   "metadata": {},
   "outputs": [
    {
     "ename": "AttributeError",
     "evalue": "'tuple' object has no attribute 'pop'",
     "output_type": "error",
     "traceback": [
      "\u001b[1;31m---------------------------------------------------------------------------\u001b[0m",
      "\u001b[1;31mAttributeError\u001b[0m                            Traceback (most recent call last)",
      "Cell \u001b[1;32mIn[158], line 3\u001b[0m\n\u001b[0;32m      1\u001b[0m t\u001b[38;5;241m=\u001b[39m(\u001b[38;5;241m10\u001b[39m,\u001b[38;5;241m20\u001b[39m,\u001b[38;5;241m30\u001b[39m,\u001b[38;5;124m\"\u001b[39m\u001b[38;5;124msaivikas\u001b[39m\u001b[38;5;124m\"\u001b[39m,\u001b[38;5;124m\"\u001b[39m\u001b[38;5;124mdinesh\u001b[39m\u001b[38;5;124m\"\u001b[39m,\u001b[38;5;124m\"\u001b[39m\u001b[38;5;124msaivikas\u001b[39m\u001b[38;5;124m\"\u001b[39m)\n\u001b[0;32m      2\u001b[0m \u001b[38;5;66;03m# print(len(t))\u001b[39;00m\n\u001b[1;32m----> 3\u001b[0m \u001b[43mt\u001b[49m\u001b[38;5;241;43m.\u001b[39;49m\u001b[43mpop\u001b[49m(\u001b[38;5;241m4\u001b[39m)\n\u001b[0;32m      4\u001b[0m \u001b[38;5;66;03m# t.index(\"dinesh\")\u001b[39;00m\n\u001b[0;32m      5\u001b[0m \u001b[38;5;28mprint\u001b[39m(t)\n",
      "\u001b[1;31mAttributeError\u001b[0m: 'tuple' object has no attribute 'pop'"
     ]
    }
   ],
   "source": [
    "t=(10,20,30,\"saivikas\",\"dinesh\",\"saivikas\")\n",
    "# print(len(t))\n",
    "t.pop(4)\n",
    "# t.index(\"dinesh\")\n",
    "print(t)"
   ]
  },
  {
   "cell_type": "code",
   "execution_count": 159,
   "id": "3bc0ce44-7fae-4012-a376-81b6158217dd",
   "metadata": {},
   "outputs": [
    {
     "ename": "AttributeError",
     "evalue": "'tuple' object has no attribute 'reverse'",
     "output_type": "error",
     "traceback": [
      "\u001b[1;31m---------------------------------------------------------------------------\u001b[0m",
      "\u001b[1;31mAttributeError\u001b[0m                            Traceback (most recent call last)",
      "Cell \u001b[1;32mIn[159], line 3\u001b[0m\n\u001b[0;32m      1\u001b[0m t\u001b[38;5;241m=\u001b[39m(\u001b[38;5;241m10\u001b[39m,\u001b[38;5;241m20\u001b[39m,\u001b[38;5;241m30\u001b[39m,\u001b[38;5;124m\"\u001b[39m\u001b[38;5;124msaivikas\u001b[39m\u001b[38;5;124m\"\u001b[39m,\u001b[38;5;124m\"\u001b[39m\u001b[38;5;124mdinesh\u001b[39m\u001b[38;5;124m\"\u001b[39m,\u001b[38;5;124m\"\u001b[39m\u001b[38;5;124msaivikas\u001b[39m\u001b[38;5;124m\"\u001b[39m)\n\u001b[0;32m      2\u001b[0m \u001b[38;5;66;03m# print(len(t))\u001b[39;00m\n\u001b[1;32m----> 3\u001b[0m \u001b[43mt\u001b[49m\u001b[38;5;241;43m.\u001b[39;49m\u001b[43mreverse\u001b[49m()\n\u001b[0;32m      4\u001b[0m \u001b[38;5;66;03m# t.index(\"dinesh\")\u001b[39;00m\n\u001b[0;32m      5\u001b[0m \u001b[38;5;28mprint\u001b[39m(t)\n",
      "\u001b[1;31mAttributeError\u001b[0m: 'tuple' object has no attribute 'reverse'"
     ]
    }
   ],
   "source": [
    "t=(10,20,30,\"saivikas\",\"dinesh\",\"saivikas\")\n",
    "# print(len(t))\n",
    "t.reverse()\n",
    "# t.index(\"dinesh\")\n",
    "print(t)"
   ]
  },
  {
   "cell_type": "code",
   "execution_count": 165,
   "id": "1fd7f596-4c25-452f-8092-2946f4b990e8",
   "metadata": {},
   "outputs": [
    {
     "ename": "NameError",
     "evalue": "name 't' is not defined",
     "output_type": "error",
     "traceback": [
      "\u001b[1;31m---------------------------------------------------------------------------\u001b[0m",
      "\u001b[1;31mNameError\u001b[0m                                 Traceback (most recent call last)",
      "Cell \u001b[1;32mIn[165], line 6\u001b[0m\n\u001b[0;32m      4\u001b[0m \u001b[38;5;28;01mdel\u001b[39;00m t\n\u001b[0;32m      5\u001b[0m \u001b[38;5;66;03m# t.index(\"dinesh\")\u001b[39;00m\n\u001b[1;32m----> 6\u001b[0m \u001b[38;5;28mprint\u001b[39m(\u001b[43mt\u001b[49m)\n",
      "\u001b[1;31mNameError\u001b[0m: name 't' is not defined"
     ]
    }
   ],
   "source": [
    "\n",
    "t=(10,20,30,\"saivikas\",\"dinesh\",\"saivikas\")\n",
    "# print(len(t))\n",
    "# t.clear()\n",
    "del t\n",
    "# t.index(\"dinesh\")\n",
    "print(t)"
   ]
  },
  {
   "cell_type": "code",
   "execution_count": 166,
   "id": "e35b7961-a448-4aff-afed-485006aec0ac",
   "metadata": {},
   "outputs": [
    {
     "ename": "AttributeError",
     "evalue": "'tuple' object has no attribute 'reverse'",
     "output_type": "error",
     "traceback": [
      "\u001b[1;31m---------------------------------------------------------------------------\u001b[0m",
      "\u001b[1;31mAttributeError\u001b[0m                            Traceback (most recent call last)",
      "Cell \u001b[1;32mIn[166], line 3\u001b[0m\n\u001b[0;32m      1\u001b[0m t\u001b[38;5;241m=\u001b[39m(\u001b[38;5;241m10\u001b[39m,\u001b[38;5;241m20\u001b[39m,\u001b[38;5;241m30\u001b[39m,\u001b[38;5;124m\"\u001b[39m\u001b[38;5;124msaivikas\u001b[39m\u001b[38;5;124m\"\u001b[39m,\u001b[38;5;124m\"\u001b[39m\u001b[38;5;124mdinesh\u001b[39m\u001b[38;5;124m\"\u001b[39m,\u001b[38;5;124m\"\u001b[39m\u001b[38;5;124msaivikas\u001b[39m\u001b[38;5;124m\"\u001b[39m)\n\u001b[0;32m      2\u001b[0m \u001b[38;5;66;03m# print(len(t))\u001b[39;00m\n\u001b[1;32m----> 3\u001b[0m \u001b[43mt\u001b[49m\u001b[38;5;241;43m.\u001b[39;49m\u001b[43mreverse\u001b[49m()\n\u001b[0;32m      4\u001b[0m \u001b[38;5;66;03m# t.index(\"dinesh\")\u001b[39;00m\n\u001b[0;32m      5\u001b[0m \u001b[38;5;28mprint\u001b[39m(t)\n",
      "\u001b[1;31mAttributeError\u001b[0m: 'tuple' object has no attribute 'reverse'"
     ]
    }
   ],
   "source": [
    "t=(10,20,30,\"saivikas\",\"dinesh\",\"saivikas\")\n",
    "# print(len(t))\n",
    "t.reverse()\n",
    "# t.index(\"dinesh\")\n",
    "print(t)"
   ]
  },
  {
   "cell_type": "code",
   "execution_count": 167,
   "id": "be87e74f-ee2f-4f07-b6b9-974b566882d6",
   "metadata": {},
   "outputs": [
    {
     "ename": "AttributeError",
     "evalue": "'tuple' object has no attribute 'reverse'",
     "output_type": "error",
     "traceback": [
      "\u001b[1;31m---------------------------------------------------------------------------\u001b[0m",
      "\u001b[1;31mAttributeError\u001b[0m                            Traceback (most recent call last)",
      "Cell \u001b[1;32mIn[167], line 3\u001b[0m\n\u001b[0;32m      1\u001b[0m t\u001b[38;5;241m=\u001b[39m(\u001b[38;5;241m10\u001b[39m,\u001b[38;5;241m20\u001b[39m,\u001b[38;5;241m30\u001b[39m,\u001b[38;5;124m\"\u001b[39m\u001b[38;5;124msaivikas\u001b[39m\u001b[38;5;124m\"\u001b[39m,\u001b[38;5;124m\"\u001b[39m\u001b[38;5;124mdinesh\u001b[39m\u001b[38;5;124m\"\u001b[39m,\u001b[38;5;124m\"\u001b[39m\u001b[38;5;124msaivikas\u001b[39m\u001b[38;5;124m\"\u001b[39m)\n\u001b[0;32m      2\u001b[0m \u001b[38;5;66;03m# print(len(t))\u001b[39;00m\n\u001b[1;32m----> 3\u001b[0m a\u001b[38;5;241m=\u001b[39m\u001b[43mt\u001b[49m\u001b[38;5;241;43m.\u001b[39;49m\u001b[43mreverse\u001b[49m()\n\u001b[0;32m      4\u001b[0m \u001b[38;5;66;03m# t.index(\"dinesh\")\u001b[39;00m\n\u001b[0;32m      5\u001b[0m \u001b[38;5;28mprint\u001b[39m(a)\n",
      "\u001b[1;31mAttributeError\u001b[0m: 'tuple' object has no attribute 'reverse'"
     ]
    }
   ],
   "source": [
    "t=(10,20,30,\"saivikas\",\"dinesh\",\"saivikas\")\n",
    "# print(len(t))\n",
    "a=t.reverse()\n",
    "# t.index(\"dinesh\")\n",
    "print(a)"
   ]
  },
  {
   "cell_type": "code",
   "execution_count": 168,
   "id": "3744a3a4-17c0-4b5f-89fc-0655164b37d1",
   "metadata": {},
   "outputs": [
    {
     "ename": "AttributeError",
     "evalue": "'tuple' object has no attribute 'sort'",
     "output_type": "error",
     "traceback": [
      "\u001b[1;31m---------------------------------------------------------------------------\u001b[0m",
      "\u001b[1;31mAttributeError\u001b[0m                            Traceback (most recent call last)",
      "Cell \u001b[1;32mIn[168], line 3\u001b[0m\n\u001b[0;32m      1\u001b[0m t\u001b[38;5;241m=\u001b[39m(\u001b[38;5;241m10\u001b[39m,\u001b[38;5;241m20\u001b[39m,\u001b[38;5;241m30\u001b[39m,\u001b[38;5;124m\"\u001b[39m\u001b[38;5;124msaivikas\u001b[39m\u001b[38;5;124m\"\u001b[39m,\u001b[38;5;124m\"\u001b[39m\u001b[38;5;124mdinesh\u001b[39m\u001b[38;5;124m\"\u001b[39m,\u001b[38;5;124m\"\u001b[39m\u001b[38;5;124msaivikas\u001b[39m\u001b[38;5;124m\"\u001b[39m)\n\u001b[0;32m      2\u001b[0m \u001b[38;5;66;03m# print(len(t))\u001b[39;00m\n\u001b[1;32m----> 3\u001b[0m \u001b[43mt\u001b[49m\u001b[38;5;241;43m.\u001b[39;49m\u001b[43msort\u001b[49m()\n\u001b[0;32m      4\u001b[0m \u001b[38;5;66;03m# t.index(\"dinesh\")\u001b[39;00m\n\u001b[0;32m      5\u001b[0m \u001b[38;5;28mprint\u001b[39m(t)\n",
      "\u001b[1;31mAttributeError\u001b[0m: 'tuple' object has no attribute 'sort'"
     ]
    }
   ],
   "source": [
    "t=(10,20,30,\"saivikas\",\"dinesh\",\"saivikas\")\n",
    "# print(len(t))\n",
    "t.sort()\n",
    "# t.index(\"dinesh\")\n",
    "print(t)"
   ]
  },
  {
   "cell_type": "code",
   "execution_count": 173,
   "id": "06757011-bf25-4c92-9e61-6ce0fb541d5f",
   "metadata": {},
   "outputs": [
    {
     "name": "stdin",
     "output_type": "stream",
     "text": [
      "enter 1 movie= bhhj\n",
      "enter 1 movie= iujhiu\n",
      "enter 1 movie= huyrhghyuyru\n",
      "enter 1 movie= hnjnm\n",
      "enter 1 movie= jhuj\n",
      "enter 1 movie= yft\n"
     ]
    },
    {
     "name": "stdout",
     "output_type": "stream",
     "text": [
      "['bhhj', 'iujhiu', 'huyrhghyuyru', 'hnjnm', 'jhuj', 'yft']\n"
     ]
    }
   ],
   "source": [
    "movies=[]\n",
    "mov1=input(\"enter 1 movie=\")\n",
    "mov2=input(\"enter 1 movie=\")\n",
    "mov3=input(\"enter 1 movie=\")\n",
    "mov4=input(\"enter 1 movie=\")\n",
    "mov5=input(\"enter 1 movie=\")\n",
    "mov6=input(\"enter 1 movie=\")\n",
    "movies.append(mov1)\n",
    "movies.append(mov2)\n",
    "movies.append(mov3)\n",
    "movies.append(mov4)\n",
    "movies.append(mov5)\n",
    "movies.append(mov6)\n",
    "print(movies)\n"
   ]
  },
  {
   "cell_type": "code",
   "execution_count": 176,
   "id": "41719cb7-ed02-4640-8b39-2c330cae7037",
   "metadata": {},
   "outputs": [
    {
     "name": "stdin",
     "output_type": "stream",
     "text": [
      "enter 1 movie= yrt\n",
      "enter 1 movie= r\n",
      "enter 1 movie= r\n",
      "enter 1 movie= r\n",
      "enter 1 movie= r\n",
      "enter 1 movie= r\n"
     ]
    },
    {
     "name": "stdout",
     "output_type": "stream",
     "text": [
      "['yrt', 'r', 'r', 'r', 'r', 'r']\n"
     ]
    }
   ],
   "source": [
    "\n",
    "mov1=input(\"enter 1 movie=\")\n",
    "mov2=input(\"enter 1 movie=\")\n",
    "mov3=input(\"enter 1 movie=\")\n",
    "mov4=input(\"enter 1 movie=\")\n",
    "mov5=input(\"enter 1 movie=\")\n",
    "mov6=input(\"enter 1 movie=\")\n",
    "print([mov1,mov2,mov3,mov4,mov5,mov6])\n",
    "\n",
    "\n"
   ]
  },
  {
   "cell_type": "code",
   "execution_count": 178,
   "id": "b1ffd4a2-fbb2-4eb3-8247-31ccbfb1b8b1",
   "metadata": {},
   "outputs": [
    {
     "name": "stdout",
     "output_type": "stream",
     "text": [
      "darshan\n"
     ]
    }
   ],
   "source": [
    "print(\"darshan\")"
   ]
  },
  {
   "cell_type": "code",
   "execution_count": 185,
   "id": "96a1a846-c921-4429-9de9-02a57ab883f1",
   "metadata": {},
   "outputs": [
    {
     "name": "stdout",
     "output_type": "stream",
     "text": [
      "1 2 3 4 "
     ]
    }
   ],
   "source": [
    "c=1\n",
    "while c<=4:\n",
    "    print(c,end=\" \")\n",
    "    c+=1"
   ]
  },
  {
   "cell_type": "code",
   "execution_count": 187,
   "id": "785e5656-fa53-43a1-895e-424d40f5be94",
   "metadata": {},
   "outputs": [
    {
     "name": "stdout",
     "output_type": "stream",
     "text": [
      "{80, 20, 920, 10, 30}\n"
     ]
    }
   ],
   "source": [
    "s={10,20,30,20,30,30,10,80,920}\n",
    "print(s)"
   ]
  },
  {
   "cell_type": "code",
   "execution_count": 190,
   "id": "549b28f3-177f-4b51-a2c7-126ca0c92692",
   "metadata": {},
   "outputs": [
    {
     "name": "stdout",
     "output_type": "stream",
     "text": [
      "{'darshan', 20, 'moon', 'earth'}\n"
     ]
    }
   ],
   "source": [
    "s={\"darshan\",\"moon\",\"earth\",20}\n",
    "print(s)"
   ]
  },
  {
   "cell_type": "code",
   "execution_count": 194,
   "id": "75b1a274-7eb3-4a95-946a-5238d4318dc2",
   "metadata": {},
   "outputs": [
    {
     "name": "stdout",
     "output_type": "stream",
     "text": [
      "{40, 10, 20, 30}\n",
      "4\n",
      "<class 'set'>\n"
     ]
    }
   ],
   "source": [
    "s={10,30,40,20,40,20,10}\n",
    "print(s)\n",
    "print(len(s))\n",
    "print(type(s))"
   ]
  },
  {
   "cell_type": "code",
   "execution_count": 196,
   "id": "9c143fb5-e9ac-4ba1-b661-dc5c84321f7c",
   "metadata": {},
   "outputs": [
    {
     "name": "stdout",
     "output_type": "stream",
     "text": [
      "{40, 10, 20, 30}\n"
     ]
    }
   ],
   "source": [
    "s=set((10,30,40,20,40,20,10))\n",
    "print(s)"
   ]
  },
  {
   "cell_type": "code",
   "execution_count": 197,
   "id": "5ba8d123-2433-47ec-b1e8-7423ca2995da",
   "metadata": {},
   "outputs": [
    {
     "name": "stdout",
     "output_type": "stream",
     "text": [
      "40\n",
      "10\n",
      "20\n",
      "30\n"
     ]
    }
   ],
   "source": [
    "s=set((10,30,40,20,40,20,10))\n",
    "for i in s:\n",
    "    print(i)"
   ]
  },
  {
   "cell_type": "code",
   "execution_count": 198,
   "id": "36fd3093-c6cd-49cf-a893-8e8cb38e30d9",
   "metadata": {},
   "outputs": [
    {
     "name": "stdout",
     "output_type": "stream",
     "text": [
      "{40, 'darshan', 10, 20, 30}\n"
     ]
    }
   ],
   "source": [
    "s=set((10,30,40,20,40,20,10))\n",
    "s.add(\"darshan\")\n",
    "print(s)"
   ]
  },
  {
   "cell_type": "code",
   "execution_count": 199,
   "id": "62c9df61-b072-4dca-b3d6-5f26c406d0a0",
   "metadata": {},
   "outputs": [
    {
     "name": "stdout",
     "output_type": "stream",
     "text": [
      "{'maa', 20, 'moon', 230, 310, 40, 'darshan', 30}\n"
     ]
    }
   ],
   "source": [
    "a={20,30,40,310,230}\n",
    "b={\"darshan\",\"moon\",\"maa\"}\n",
    "a.update(b)\n",
    "print(a)\n"
   ]
  },
  {
   "cell_type": "code",
   "execution_count": 236,
   "id": "ce4b6ac9-f80e-4cec-8868-56f450d6c3af",
   "metadata": {},
   "outputs": [
    {
     "name": "stdout",
     "output_type": "stream",
     "text": [
      "{20, 230, 310, 40, 30}\n",
      "{230, 310, 40, 30}\n"
     ]
    }
   ],
   "source": [
    "a={20,30,40,310,230}\n",
    "print(a)\n",
    "a.pop()\n",
    "# a.remove(1000)\n",
    "print(a)"
   ]
  },
  {
   "cell_type": "code",
   "execution_count": 205,
   "id": "1a0325f6-c974-4b7e-b3b4-38c6e85d8bf7",
   "metadata": {},
   "outputs": [
    {
     "name": "stdout",
     "output_type": "stream",
     "text": [
      "{20, 230, 40, 30}\n"
     ]
    }
   ],
   "source": [
    "a={20,30,40,310,230}\n",
    "a.discard(310)\n",
    "a.discard(20000) # no error\n",
    "print(a)"
   ]
  },
  {
   "cell_type": "code",
   "execution_count": 207,
   "id": "8c7f3e25-ca37-4133-b679-1a2fa401bcc0",
   "metadata": {},
   "outputs": [
    {
     "name": "stdout",
     "output_type": "stream",
     "text": [
      "20\n"
     ]
    }
   ],
   "source": [
    "a={20,30,40,310,230}\n",
    "b=a.pop()\n",
    "print(b)"
   ]
  },
  {
   "cell_type": "code",
   "execution_count": 208,
   "id": "6c994d00-f04d-423d-b721-ea72f8ca97ea",
   "metadata": {},
   "outputs": [
    {
     "name": "stdout",
     "output_type": "stream",
     "text": [
      "set()\n"
     ]
    }
   ],
   "source": [
    "a={20,30,40,310,230}\n",
    "a.clear()\n",
    "print(a)"
   ]
  },
  {
   "cell_type": "code",
   "execution_count": 209,
   "id": "016ebd4d-625b-499f-858a-6d4200673e2a",
   "metadata": {},
   "outputs": [
    {
     "ename": "NameError",
     "evalue": "name 'a' is not defined",
     "output_type": "error",
     "traceback": [
      "\u001b[1;31m---------------------------------------------------------------------------\u001b[0m",
      "\u001b[1;31mNameError\u001b[0m                                 Traceback (most recent call last)",
      "Cell \u001b[1;32mIn[209], line 3\u001b[0m\n\u001b[0;32m      1\u001b[0m a\u001b[38;5;241m=\u001b[39m{\u001b[38;5;241m20\u001b[39m,\u001b[38;5;241m30\u001b[39m,\u001b[38;5;241m40\u001b[39m,\u001b[38;5;241m310\u001b[39m,\u001b[38;5;241m230\u001b[39m}\n\u001b[0;32m      2\u001b[0m \u001b[38;5;28;01mdel\u001b[39;00m a\n\u001b[1;32m----> 3\u001b[0m \u001b[38;5;28mprint\u001b[39m(\u001b[43ma\u001b[49m)\n",
      "\u001b[1;31mNameError\u001b[0m: name 'a' is not defined"
     ]
    }
   ],
   "source": [
    "a={20,30,40,310,230}\n",
    "del a\n",
    "print(a)"
   ]
  },
  {
   "cell_type": "code",
   "execution_count": 220,
   "id": "da4db189-3f04-4db8-96c9-d0600ab06b0c",
   "metadata": {},
   "outputs": [
    {
     "name": "stdout",
     "output_type": "stream",
     "text": [
      "{1, 2, 3, 4, 5, 6, 7, 8, 9, 10, 11, 12, 13, 14, 20}\n",
      "{1, 2, 3, 4, 5, 6, 7, 8, 9, 10, 11, 12, 13, 14, 20}\n"
     ]
    }
   ],
   "source": [
    "s1={1,2,3,4,5,6,7,8}\n",
    "s2={9,10,11,12,13,14,1,2,3,20}\n",
    "a=s1.union(s2)\n",
    "print(a)\n",
    "print(s1|s2)\n"
   ]
  },
  {
   "cell_type": "markdown",
   "id": "e8e7b885-f722-42ea-8e21-0b3b0209cef8",
   "metadata": {},
   "source": [
    "s1={1,2,3,4,5,6,7,8}\n",
    "s2={9,10,11,12,13,14,1,2,3,20}\n",
    "a=s1.intersection(s2)\n",
    "print(a)\n",
    "print(s1|s2)"
   ]
  },
  {
   "cell_type": "code",
   "execution_count": 222,
   "id": "af6f8ec7-6dcc-4968-9a9c-a41eefdb5627",
   "metadata": {},
   "outputs": [
    {
     "name": "stdout",
     "output_type": "stream",
     "text": [
      "{1, 2, 3}\n",
      "{1, 2, 3, 4, 5, 6, 7, 8, 9, 10, 11, 12, 13, 14, 20}\n"
     ]
    }
   ],
   "source": [
    "s1={1,2,3,4,5,6,7,8}\n",
    "s2={9,10,11,12,13,14,1,2,3,20} \n",
    "a=s1.intersection(s2) \n",
    "print(a) \n",
    "print(s1|s2)"
   ]
  },
  {
   "cell_type": "code",
   "execution_count": 224,
   "id": "7b903792-ca7c-4f64-80be-a7cbb8ebde45",
   "metadata": {},
   "outputs": [
    {
     "name": "stdout",
     "output_type": "stream",
     "text": [
      "{20, 40, 10, 30}\n"
     ]
    },
    {
     "ename": "KeyError",
     "evalue": "20000",
     "output_type": "error",
     "traceback": [
      "\u001b[1;31m---------------------------------------------------------------------------\u001b[0m",
      "\u001b[1;31mKeyError\u001b[0m                                  Traceback (most recent call last)",
      "Cell \u001b[1;32mIn[224], line 4\u001b[0m\n\u001b[0;32m      2\u001b[0m s\u001b[38;5;241m.\u001b[39mremove(\u001b[38;5;241m50\u001b[39m)\n\u001b[0;32m      3\u001b[0m \u001b[38;5;28mprint\u001b[39m(s)\n\u001b[1;32m----> 4\u001b[0m \u001b[43ms\u001b[49m\u001b[38;5;241;43m.\u001b[39;49m\u001b[43mremove\u001b[49m\u001b[43m(\u001b[49m\u001b[38;5;241;43m20000\u001b[39;49m\u001b[43m)\u001b[49m\n",
      "\u001b[1;31mKeyError\u001b[0m: 20000"
     ]
    }
   ],
   "source": [
    "s={10,20,30,40,50}\n",
    "s.remove(50)\n",
    "print(s)\n",
    "s.remove(20000)"
   ]
  },
  {
   "cell_type": "code",
   "execution_count": 225,
   "id": "8312145b-8525-44eb-844e-771fe0b7e0e8",
   "metadata": {},
   "outputs": [
    {
     "name": "stdout",
     "output_type": "stream",
     "text": [
      "{50, 20, 40, 10, 30}\n",
      "{50, 20, 40, 10, 30}\n"
     ]
    }
   ],
   "source": [
    "s={10,20,30,40,50}\n",
    "#s.remove(50)\n",
    "print(s)\n",
    "s.discard(20000)\n",
    "print(s)"
   ]
  },
  {
   "cell_type": "code",
   "execution_count": 226,
   "id": "963718e0-3a25-4bcf-83e0-8bb58e541992",
   "metadata": {},
   "outputs": [
    {
     "name": "stdout",
     "output_type": "stream",
     "text": [
      "{1, 2, 3}\n",
      "{1, 2, 3}\n"
     ]
    }
   ],
   "source": [
    "s1={1,2,3,4,5,6,7,8}\n",
    "s2={9,10,11,12,13,14,1,2,3,20} \n",
    "a=s1.intersection(s2) \n",
    "print(a) \n",
    "print(s1&s2)"
   ]
  },
  {
   "cell_type": "code",
   "execution_count": 229,
   "id": "fc85105f-875d-4f19-b56d-0b2d46440bf6",
   "metadata": {},
   "outputs": [
    {
     "name": "stdout",
     "output_type": "stream",
     "text": [
      "{4, 5, 6, 7, 8}\n",
      "{4, 5, 6, 7, 8}\n",
      "{4, 5, 6, 7, 8}\n"
     ]
    }
   ],
   "source": [
    "s1={1,2,3,4,5,6,7,8}\n",
    "s2={9,10,11,12,13,14,1,2,3,20} \n",
    "a=s1.difference(s2)\n",
    "print(s1-s2)\n",
    "print(a)\n",
    "print(s1.difference(s2))"
   ]
  },
  {
   "cell_type": "code",
   "execution_count": 249,
   "id": "7485846b-6343-4a2a-95fd-a3acd4172fb2",
   "metadata": {},
   "outputs": [
    {
     "name": "stdout",
     "output_type": "stream",
     "text": [
      "{4, 5, 6, 7, 8, 9, 10, 11, 12, 13, 14, 20}\n",
      "{4, 5, 6, 7, 8, 9, 10, 11, 12, 13, 14, 20}\n",
      "{4, 5, 6, 7, 8, 9, 10, 11, 12, 13, 14, 20}\n",
      "{4, 5, 6, 7, 8, 9, 10, 11, 12, 13, 14, 20}\n"
     ]
    }
   ],
   "source": [
    "s1={1,2,3,4,5,6,7,8}\n",
    "s2={9,10,11,12,13,14,1,2,3,20} \n",
    "print(s1^s2)\n",
    "print(s2^s1)\n",
    "d=s1.symmetric_difference(s2)\n",
    "print(d)\n",
    "s2.symmetric_difference_update(s1)\n",
    "print(s2)"
   ]
  },
  {
   "cell_type": "code",
   "execution_count": 241,
   "id": "f993c318-ca03-47a2-82f3-95c013063e4b",
   "metadata": {},
   "outputs": [
    {
     "name": "stdout",
     "output_type": "stream",
     "text": [
      "Requirement already satisfied: numpy in c:\\users\\welcome\\appdata\\local\\programs\\python\\python313\\lib\\site-packages (2.2.0)\n"
     ]
    }
   ],
   "source": [
    "!pip install numpy\n"
   ]
  },
  {
   "cell_type": "code",
   "execution_count": 244,
   "id": "b234875b-b614-4d9d-bf8a-563fab2f5cf6",
   "metadata": {},
   "outputs": [
    {
     "name": "stdout",
     "output_type": "stream",
     "text": [
      "[10 20]\n"
     ]
    }
   ],
   "source": [
    "import numpy as np\n",
    "import numpy as np\n",
    "\n",
    "arr = np.array([10, 20])\n",
    "print(arr)\n"
   ]
  },
  {
   "cell_type": "code",
   "execution_count": 245,
   "id": "7a03fb59-077c-42b3-8592-223ea184d288",
   "metadata": {},
   "outputs": [
    {
     "name": "stdout",
     "output_type": "stream",
     "text": [
      "Collecting pandas\n",
      "  Downloading pandas-2.2.3-cp313-cp313-win_amd64.whl.metadata (19 kB)\n",
      "Requirement already satisfied: numpy>=1.26.0 in c:\\users\\welcome\\appdata\\local\\programs\\python\\python313\\lib\\site-packages (from pandas) (2.2.0)\n",
      "Requirement already satisfied: python-dateutil>=2.8.2 in c:\\users\\welcome\\appdata\\local\\programs\\python\\python313\\lib\\site-packages (from pandas) (2.9.0.post0)\n",
      "Collecting pytz>=2020.1 (from pandas)\n",
      "  Downloading pytz-2024.2-py2.py3-none-any.whl.metadata (22 kB)\n",
      "Collecting tzdata>=2022.7 (from pandas)\n",
      "  Downloading tzdata-2024.2-py2.py3-none-any.whl.metadata (1.4 kB)\n",
      "Requirement already satisfied: six>=1.5 in c:\\users\\welcome\\appdata\\local\\programs\\python\\python313\\lib\\site-packages (from python-dateutil>=2.8.2->pandas) (1.17.0)\n",
      "Downloading pandas-2.2.3-cp313-cp313-win_amd64.whl (11.5 MB)\n",
      "   ---------------------------------------- 0.0/11.5 MB ? eta -:--:--\n",
      "   ---- ----------------------------------- 1.3/11.5 MB 6.6 MB/s eta 0:00:02\n",
      "   ---------- ----------------------------- 3.1/11.5 MB 8.1 MB/s eta 0:00:02\n",
      "   ----------------- ---------------------- 5.0/11.5 MB 8.1 MB/s eta 0:00:01\n",
      "   -------------------------- ------------- 7.6/11.5 MB 9.2 MB/s eta 0:00:01\n",
      "   ---------------------------------- ----- 10.0/11.5 MB 9.7 MB/s eta 0:00:01\n",
      "   ---------------------------------------  11.3/11.5 MB 10.1 MB/s eta 0:00:01\n",
      "   ---------------------------------------- 11.5/11.5 MB 8.6 MB/s eta 0:00:00\n",
      "Downloading pytz-2024.2-py2.py3-none-any.whl (508 kB)\n",
      "Downloading tzdata-2024.2-py2.py3-none-any.whl (346 kB)\n",
      "Installing collected packages: pytz, tzdata, pandas\n",
      "Successfully installed pandas-2.2.3 pytz-2024.2 tzdata-2024.2\n"
     ]
    }
   ],
   "source": [
    "!pip install pandas"
   ]
  },
  {
   "cell_type": "code",
   "execution_count": 247,
   "id": "348cab03-381c-47ff-a80a-79c9fc81a691",
   "metadata": {},
   "outputs": [
    {
     "name": "stdout",
     "output_type": "stream",
     "text": [
      "      Name  Age         City\n",
      "0    Alice   24     New York\n",
      "1      Bob   27  Los Angeles\n",
      "2  Charlie   22      Chicago\n",
      "3    David   32      Houston\n"
     ]
    }
   ],
   "source": [
    "import pandas as pd\n",
    "data = {\n",
    "    'Name': ['Alice', 'Bob', 'Charlie', 'David'],\n",
    "    'Age': [24, 27, 22, 32],\n",
    "    'City': ['New York', 'Los Angeles', 'Chicago', 'Houston']\n",
    "}\n",
    "\n",
    "df = pd.DataFrame(data)\n",
    "print(df)\n"
   ]
  },
  {
   "cell_type": "code",
   "execution_count": 263,
   "id": "3830eb91-0b0d-43f2-a474-380141e03ac9",
   "metadata": {},
   "outputs": [
    {
     "name": "stdout",
     "output_type": "stream",
     "text": [
      "{'name': ['dinesh kumar', 'sameer', 'saivikas'], 'class': ['3rd yr btech', '3rd yr btech', '3rd yr btech'], 'adress': ['station ganpoor', 'hanmakonda', 'hitechcity'], 'age': [24, 22, 100]}\n",
      "           name         class           adress  age\n",
      "0  dinesh kumar  3rd yr btech  station ganpoor   24\n",
      "1        sameer  3rd yr btech       hanmakonda   22\n",
      "2      saivikas  3rd yr btech       hitechcity  100\n"
     ]
    }
   ],
   "source": [
    "import pandas as pd\n",
    "data = { \n",
    "    \"name\":[\"dinesh kumar\",\"sameer\",\"saivikas\"],\n",
    "    \"class\":[\"3rd yr btech\",\"3rd yr btech\",\"3rd yr btech\"],\n",
    "    \"adress\":[\"station ganpoor\",\"hanmakonda\",\"hitechcity\"],\n",
    "    \"age\":[24,22,100]\n",
    "}\n",
    "print(data)\n",
    "# print(data(\"name\"))\n",
    "df = pd.DataFrame(data)\n",
    "print(df)\n",
    "    \n"
   ]
  },
  {
   "cell_type": "code",
   "execution_count": 279,
   "id": "5d1c862a-c604-442d-85a2-784fe4100619",
   "metadata": {},
   "outputs": [
    {
     "name": "stdout",
     "output_type": "stream",
     "text": [
      "{'roolno', 'name'}\n",
      "True\n",
      "True\n"
     ]
    }
   ],
   "source": [
    "s={\"name\",\"roolno\"}\n",
    "print(s)\n",
    "print(\"name\"in s)\n",
    "print(\"roolno\" in s)"
   ]
  },
  {
   "cell_type": "code",
   "execution_count": 280,
   "id": "2db58f14-ee3b-43ca-ac03-e892bea75568",
   "metadata": {},
   "outputs": [
    {
     "name": "stdout",
     "output_type": "stream",
     "text": [
      "('name', 'roolno')\n",
      "False\n",
      "True\n"
     ]
    }
   ],
   "source": [
    "s=(\"name\",\"roolno\")\n",
    "print(s)\n",
    "print(\"n\"in s)\n",
    "print(\"roolno\" in s)"
   ]
  },
  {
   "cell_type": "code",
   "execution_count": 281,
   "id": "543c764f-1b66-4ef3-9b67-6ff2da4f28a4",
   "metadata": {},
   "outputs": [
    {
     "name": "stdout",
     "output_type": "stream",
     "text": [
      "name\n",
      "True\n",
      "False\n"
     ]
    }
   ],
   "source": [
    "s=\"name\"\n",
    "print(s)\n",
    "print(\"n\"in s)\n",
    "print(\"roolno\" in s)"
   ]
  },
  {
   "cell_type": "code",
   "execution_count": 268,
   "id": "5747450e-fd4a-41d3-b877-e056587b5f51",
   "metadata": {},
   "outputs": [
    {
     "name": "stdout",
     "output_type": "stream",
     "text": [
      "{4, 10, 50, 20, 30}\n"
     ]
    }
   ],
   "source": [
    "l1=[10,20,30,4,50,10,10,20,20]\n",
    "se=set(l1)\n",
    "print(se)"
   ]
  },
  {
   "cell_type": "code",
   "execution_count": 283,
   "id": "3e400056-edad-43c6-9996-5900c3cb5f3c",
   "metadata": {},
   "outputs": [
    {
     "name": "stdin",
     "output_type": "stream",
     "text": [
      "enter the list= 11111111111111111111111111111,22,2,2,2,2,2,32,3,32,233,332,323,23,323,233\n"
     ]
    },
    {
     "name": "stdout",
     "output_type": "stream",
     "text": [
      "given LIST= [11111111111111111111111111111, 22, 2, 2, 2, 2, 2, 32, 3, 32, 233, 332, 323, 23, 323, 233]\n",
      "SET VALUE= {32, 2, 3, 323, 11111111111111111111111111111, 233, 332, 22, 23}\n",
      "final list(duplicates removed)= [32, 2, 3, 323, 11111111111111111111111111111, 233, 332, 22, 23]\n"
     ]
    }
   ],
   "source": [
    "lt=eval(input(\"enter the list=\"))\n",
    "s=set(lt)\n",
    "a=list(lt)\n",
    "b=list(s)\n",
    "print(\"given LIST=\",a)\n",
    "\n",
    "# print(\"tuple=\",lt)\n",
    "print(\"SET VALUE=\",s)\n",
    "print(\"final list(duplicates removed)=\",b)"
   ]
  },
  {
   "cell_type": "code",
   "execution_count": 287,
   "id": "63533194-5ca4-4c9b-91b8-1a04832638f0",
   "metadata": {},
   "outputs": [
    {
     "name": "stdout",
     "output_type": "stream",
     "text": [
      "{'key1': 'darshan', 'lock': 'love', 'propose': ['dont propose me i have to study']}\n",
      "love\n",
      "['dont propose me i have to study']\n"
     ]
    }
   ],
   "source": [
    "dict={\"key1\":\"darshan\",\"lock\":\"love\",\"propose\":[\"dont propose me i have to study\"],}\n",
    "print(dict)\n",
    "print(dict[\"lock\"])\n",
    "print(dict[\"propose\"])"
   ]
  },
  {
   "cell_type": "code",
   "execution_count": 290,
   "id": "d5e52dbf-5b8e-4bcb-ad6a-2b073511fe47",
   "metadata": {},
   "outputs": [
    {
     "name": "stdout",
     "output_type": "stream",
     "text": [
      "{100: 'niku andhuku', 101: 'EEE', 102: 'university'}\n",
      "{100: 'niku andhuku', 101: 'EEE', 102: 'university', 103: 'bye brow'}\n",
      "{100: 'niku andhuku', 101: 'EEE', 102: 'university', 103: 'bye brow', 104: 'okay'}\n"
     ]
    }
   ],
   "source": [
    "d={100:\"niku andhuku\",101:\"EEE\",102:\"university\"}\n",
    "print(d)\n",
    "d[103]=\"bye brow\"\n",
    "print(d)\n",
    "d[104]=\"okay\"\n",
    "print(d)\n",
    "del d[100]"
   ]
  },
  {
   "cell_type": "code",
   "execution_count": 303,
   "id": "2cfe2f3f-0a10-49b6-9995-c5526d846880",
   "metadata": {},
   "outputs": [
    {
     "name": "stdin",
     "output_type": "stream",
     "text": [
      "enter your word= darshan\n"
     ]
    },
    {
     "name": "stdout",
     "output_type": "stream",
     "text": [
      "not found\n",
      "alphabet a found\n",
      "not found\n",
      "not found\n",
      "not found\n",
      "alphabet a found\n",
      "not found\n"
     ]
    }
   ],
   "source": [
    "# word=input(\"enter your word=\")\n",
    "# for nums in word :\n",
    "\n",
    "#     if nums==\"a\":\n",
    "#         print(\"alphabet a found\")\n",
    "#     elif nums==\"e\":\n",
    "#         print(\"alphabet e found\")\n",
    "#     elif nums==\"i\":\n",
    "#         print(\"alphabet i found\")\n",
    "#     elif nums==\"o\":\n",
    "#         print(\"alphabet o found\")\n",
    "#     elif nums==\"u\":\n",
    "#         print(\"alphabet u found\")\n",
    "#     else:\n",
    "#         print(\"not found\")\n",
    "    \n",
    "\n"
   ]
  },
  {
   "cell_type": "code",
   "execution_count": 316,
   "id": "2a58dcf1-39db-4aed-ac2b-9472704ecafa",
   "metadata": {},
   "outputs": [
    {
     "name": "stdin",
     "output_type": "stream",
     "text": [
      "enter your word= darshanog\n"
     ]
    },
    {
     "name": "stdout",
     "output_type": "stream",
     "text": [
      "vowels found == a\n"
     ]
    }
   ],
   "source": [
    "word=input(\"enter your word=\")\n",
    "x=[\"a\",\"i\",\"e\",\"o\",\"u\"]\n",
    "for nums in word :\n",
    "\n",
    "    if nums in x:\n",
    "        print(\"vowels found ==\",nums)\n",
    "        break\n",
    "    # else:\n",
    "    #     print(\"vowel not found\")"
   ]
  },
  {
   "cell_type": "code",
   "execution_count": 325,
   "id": "b9dc43c2-39bb-4e8f-a91a-7364ca9fb522",
   "metadata": {},
   "outputs": [
    {
     "name": "stdin",
     "output_type": "stream",
     "text": [
      "enter your word= hiuhlomol\n"
     ]
    },
    {
     "name": "stdout",
     "output_type": "stream",
     "text": [
      "vowels founded= {'i', 'o', 'u'}\n"
     ]
    }
   ],
   "source": [
    "word=input(\"enter your word=\")\n",
    "x={\"a\",\"i\",\"e\",\"o\",\"u\"}\n",
    "s1=set(word)\n",
    "#a=s1.intersection(x)\n",
    "print(\"vowels founded=\",s1&x)\n",
    "#print(\"vowel founded=\",a)\n"
   ]
  },
  {
   "cell_type": "code",
   "execution_count": null,
   "id": "0fd74af1-d852-4263-8683-b5bbc9177553",
   "metadata": {},
   "outputs": [],
   "source": []
  }
 ],
 "metadata": {
  "kernelspec": {
   "display_name": "Python 3 (ipykernel)",
   "language": "python",
   "name": "python3"
  },
  "language_info": {
   "codemirror_mode": {
    "name": "ipython",
    "version": 3
   },
   "file_extension": ".py",
   "mimetype": "text/x-python",
   "name": "python",
   "nbconvert_exporter": "python",
   "pygments_lexer": "ipython3",
   "version": "3.13.1"
  }
 },
 "nbformat": 4,
 "nbformat_minor": 5
}
