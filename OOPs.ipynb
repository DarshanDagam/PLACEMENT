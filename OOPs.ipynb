{
 "cells": [
  {
   "cell_type": "code",
   "execution_count": 2,
   "id": "a1054503-e0f5-41ba-9c35-0f63ef580844",
   "metadata": {},
   "outputs": [
    {
     "name": "stdout",
     "output_type": "stream",
     "text": [
      "[10 20 30]\n",
      "10\n"
     ]
    }
   ],
   "source": [
    "import numpy as np\n",
    "c=np.array([10,20,30])\n",
    "print(c)\n",
    "# import numpy as np\n",
    "d=np.array(10)\n",
    "print(d)\n"
   ]
  },
  {
   "cell_type": "code",
   "execution_count": 5,
   "id": "cb8a8dcd-17a9-4300-ac6c-9f2aa17c49d0",
   "metadata": {},
   "outputs": [
    {
     "ename": "AttributeError",
     "evalue": "'dict' object has no attribute 'remove'",
     "output_type": "error",
     "traceback": [
      "\u001b[1;31m---------------------------------------------------------------------------\u001b[0m",
      "\u001b[1;31mAttributeError\u001b[0m                            Traceback (most recent call last)",
      "Cell \u001b[1;32mIn[5], line 3\u001b[0m\n\u001b[0;32m      1\u001b[0m \u001b[38;5;66;03m#remove \u001b[39;00m\n\u001b[0;32m      2\u001b[0m my_dict\u001b[38;5;241m=\u001b[39m{\u001b[38;5;124m\"\u001b[39m\u001b[38;5;124ma\u001b[39m\u001b[38;5;124m\"\u001b[39m:\u001b[38;5;241m1234\u001b[39m,\u001b[38;5;124m\"\u001b[39m\u001b[38;5;124mb\u001b[39m\u001b[38;5;124m\"\u001b[39m:\u001b[38;5;241m6768768\u001b[39m}\n\u001b[1;32m----> 3\u001b[0m a\u001b[38;5;241m=\u001b[39m\u001b[43mmy_dict\u001b[49m\u001b[38;5;241;43m.\u001b[39;49m\u001b[43mremove\u001b[49m(\u001b[38;5;124m\"\u001b[39m\u001b[38;5;124ma\u001b[39m\u001b[38;5;124m\"\u001b[39m)\n\u001b[0;32m      4\u001b[0m \u001b[38;5;28mprint\u001b[39m(a)\n",
      "\u001b[1;31mAttributeError\u001b[0m: 'dict' object has no attribute 'remove'"
     ]
    }
   ],
   "source": [
    "#remove \n",
    "my_dict={\"a\":1234,\"b\":6768768}\n",
    "my_dict.remove(\"a\")\n",
    "print(a)"
   ]
  },
  {
   "cell_type": "code",
   "execution_count": 7,
   "id": "b1778f86-2eb2-485a-8bcf-ce10706c98d4",
   "metadata": {},
   "outputs": [
    {
     "name": "stdout",
     "output_type": "stream",
     "text": [
      "{}\n"
     ]
    }
   ],
   "source": [
    "#clear\n",
    "my_dict={\"a\":1234,\"b\":6768768}\n",
    "my_dict.clear()\n",
    "print(my_dict)"
   ]
  },
  {
   "cell_type": "code",
   "execution_count": 10,
   "id": "c6f2a304-4d00-4c5b-9702-857c1b0c9f2b",
   "metadata": {},
   "outputs": [
    {
     "name": "stdout",
     "output_type": "stream",
     "text": [
      "{'a': 1234, 'b': 6768768}\n",
      "{'a': 1234, 'b': 6768768}\n"
     ]
    }
   ],
   "source": [
    "#copy\n",
    "my_dict={\"a\":1234,\"b\":6768768}\n",
    "copied_dict=my_dict.copy()\n",
    "print(my_dict)\n",
    "print(copied_dict)"
   ]
  },
  {
   "cell_type": "code",
   "execution_count": 13,
   "id": "135fad25-58f2-4b86-b12c-f528d94d3214",
   "metadata": {},
   "outputs": [
    {
     "name": "stdout",
     "output_type": "stream",
     "text": [
      "{'a': (0, 2, 3), 'b': (0, 2, 3), 'c': (0, 2, 3)}\n"
     ]
    }
   ],
   "source": [
    "#from keys\n",
    "keys=(\"a\",\"b\",\"c\")\n",
    "value=0,2,3\n",
    "my_dict=dict.fromkeys(keys,value)\n",
    "#copied_dict=my_dict.copy()\n",
    "print(my_dict)\n",
    "#print(copied_dict)"
   ]
  },
  {
   "cell_type": "code",
   "execution_count": 18,
   "id": "0aaf760f-e519-465f-9c10-f456182347a8",
   "metadata": {},
   "outputs": [
    {
     "name": "stdout",
     "output_type": "stream",
     "text": [
      "1\n",
      "None\n"
     ]
    }
   ],
   "source": [
    "#get\n",
    "my_d={\"a\":1,\"b\":3}\n",
    "print(my_d.get(\"a\"))\n",
    "print(my_d.get(\"z\"))  #-----------none________"
   ]
  },
  {
   "cell_type": "code",
   "execution_count": 23,
   "id": "491d7641-1f1f-4cfb-9a07-b57e529f336b",
   "metadata": {},
   "outputs": [
    {
     "name": "stdout",
     "output_type": "stream",
     "text": [
      "dict_items([('a', 1), ('b', 3)])\n",
      "dict_items([('a', 1), ('b', 3)])\n"
     ]
    }
   ],
   "source": [
    "#items\n",
    "my_d={\"a\":1,\"b\":3}\n",
    "#items=my_d.items()\n",
    "print(items)\n",
    "print(my_d.items())"
   ]
  },
  {
   "cell_type": "code",
   "execution_count": 27,
   "id": "93f5a791-33dd-4b28-955c-926f1947db62",
   "metadata": {},
   "outputs": [
    {
     "name": "stdout",
     "output_type": "stream",
     "text": [
      "dict_keys(['name', 'city', 'age'])\n",
      "dict_keys(['name', 'city', 'age'])\n"
     ]
    }
   ],
   "source": [
    "#keys\n",
    "my={\"name\":\"moon\",\"city\":\"hyd\",\"age\":17}\n",
    "keys=my.keys()\n",
    "print(keys)\n",
    "print(keys)\n"
   ]
  },
  {
   "cell_type": "code",
   "execution_count": 35,
   "id": "dfdd73a6-aba8-44e2-b65e-45d55d9faecf",
   "metadata": {},
   "outputs": [
    {
     "name": "stdout",
     "output_type": "stream",
     "text": [
      "17\n",
      "(0, 2, 3)\n",
      "dict_keys(['name', 'city', 'age'])\n",
      "{'name': 'moon', 'city': 'hyd'}\n"
     ]
    }
   ],
   "source": [
    "#pop\n",
    "my={\"name\":\"moon\",\"city\":\"hyd\",\"age\":17}\n",
    "poppedkey=my.pop(\"age\")\n",
    "print(poppedkey)\n",
    "#print(value)_________previously given\n",
    "print(keys)\n",
    "print(my)\n"
   ]
  },
  {
   "cell_type": "code",
   "execution_count": 41,
   "id": "98fe4205-4d14-45e3-ac07-ad0edbeac1fd",
   "metadata": {},
   "outputs": [
    {
     "name": "stdout",
     "output_type": "stream",
     "text": [
      "('age', 17)\n",
      "dict_keys(['name', 'city'])\n",
      "{'name': 'moon', 'city': 'hyd'}\n"
     ]
    }
   ],
   "source": [
    "#pop item\n",
    "my={\"name\":\"moon\",\"city\":\"hyd\",\"age\":17}\n",
    "poppeditem=my.popitem()\n",
    "print(poppeditem)\n",
    "#print(value)_________previously given\n",
    "\n",
    "print(my)\n",
    "\n"
   ]
  },
  {
   "cell_type": "code",
   "execution_count": 43,
   "id": "ab55d7b6-db7c-4e24-818d-5bbaa811508e",
   "metadata": {},
   "outputs": [
    {
     "name": "stdout",
     "output_type": "stream",
     "text": [
      "hanmakonda\n",
      "{'name': 'wastefellow', 'agee': 16, 'city': 'hanmakonda'}\n"
     ]
    }
   ],
   "source": [
    "#set default\n",
    "details={\"name\":\"wastefellow\",\"agee\":16,}\n",
    "city=details.setdefault(\"city\",\"hanmakonda\")\n",
    "print(city)\n",
    "print(details)\n"
   ]
  },
  {
   "cell_type": "code",
   "execution_count": 83,
   "id": "37c612d2-133d-4a9c-ae54-69e7f11f7a49",
   "metadata": {},
   "outputs": [
    {
     "name": "stdout",
     "output_type": "stream",
     "text": [
      "{'name': 'wastefellow', 'agee': 16, 'city': 'kistapur', 'class': 'diploma'}\n"
     ]
    }
   ],
   "source": [
    "# update \n",
    "details={\"name\":\"wastefellow\",\"agee\":16,}\n",
    "details.update({\"city\":\"kistapur\",\"class\":\"diploma\"})\n",
    "#print(city)\n",
    "print(details)"
   ]
  },
  {
   "cell_type": "code",
   "execution_count": 46,
   "id": "f3d70764-b267-4e79-a1e9-4466c6d97c6d",
   "metadata": {},
   "outputs": [
    {
     "name": "stdout",
     "output_type": "stream",
     "text": [
      "dict_values(['wastefellow', 16])\n",
      "{'name': 'wastefellow', 'agee': 16}\n"
     ]
    }
   ],
   "source": [
    "#values\n",
    "details={\"name\":\"wastefellow\",\"agee\":16,}\n",
    "values1=details.values()\n",
    "#print(city)\n",
    "print(values1)\n",
    "print(details)"
   ]
  },
  {
   "cell_type": "code",
   "execution_count": 48,
   "id": "66546de2-4898-41b3-9aa1-40f5663ea752",
   "metadata": {},
   "outputs": [
    {
     "name": "stdout",
     "output_type": "stream",
     "text": [
      "{'color': 'blue', 'milege': 200, 'company': 'indigo', 'price': 200000, 'features': 'high'}\n"
     ]
    }
   ],
   "source": [
    "car={\"color\":\"blue\",\"milege\":200,\"company\":\"indigo\"}\n",
    "car.update({\"price\":200000,\"features\":\"high\"})\n",
    "print(car)"
   ]
  },
  {
   "cell_type": "code",
   "execution_count": 77,
   "id": "9c25de26-03a1-40d9-ab10-394213a24533",
   "metadata": {},
   "outputs": [
    {
     "name": "stdout",
     "output_type": "stream",
     "text": [
      "{'skills': 'eee', 'study': 'btech'}\n",
      "{'skills': 'eee', 'study': 'btech'}\n",
      "{'skills': 5395, 'study': 5395}\n",
      "btech\n",
      "dict_items([('skills', 'eee'), ('study', 'btech')])\n",
      "dict_keys(['skills', 'study'])\n",
      "eee\n",
      "{'study': 'btech'}\n",
      "('study', 'btech')\n",
      "good\n",
      "{'behaviour': 'good', 'things': 'goood'}\n",
      "dict_values(['good', 'goood'])\n"
     ]
    }
   ],
   "source": [
    "man={\"skills\":\"eee\",\"study\":\"btech\"}\n",
    "#man.clear()\n",
    "print(man)\n",
    "man2=man.copy()\n",
    "print(man2)\n",
    "v1=5395\n",
    "man3=man.fromkeys(man,v1)\n",
    "print(man3)\n",
    "man4=man.get(\"study\")\n",
    "print(man4)\n",
    "i1=man.items()\n",
    "print(i1)\n",
    "k1=man.keys()\n",
    "print(k1)\n",
    "pop1=man.pop(\"skills\")\n",
    "print(pop1)\n",
    "print(man)\n",
    "i2=man.popitem()\n",
    "print(i2)\n",
    "s1=man.setdefault(\"behaviour\",\"good\")\n",
    "print(s1)\n",
    "man.update({\"things\":\"goood\"})\n",
    "print(man)\n",
    "v2=man.values()\n",
    "print(v2)"
   ]
  },
  {
   "cell_type": "code",
   "execution_count": 71,
   "id": "1b829854-2eb0-4c1a-98dc-1cbaff88d35e",
   "metadata": {},
   "outputs": [
    {
     "name": "stdout",
     "output_type": "stream",
     "text": [
      "True\n",
      "False\n"
     ]
    }
   ],
   "source": [
    "#contains\n",
    "details={\"name\":\"wastefellow\",\"agee\":16,}\n",
    "print(\"name\"in details)\n",
    "print(\"nothing\"in details)"
   ]
  },
  {
   "cell_type": "code",
   "execution_count": 74,
   "id": "62ec65ef-e1bc-496d-a76b-9d3ec946f5dd",
   "metadata": {},
   "outputs": [
    {
     "name": "stdout",
     "output_type": "stream",
     "text": [
      "wastefellow\n",
      "wastefellow\n"
     ]
    }
   ],
   "source": [
    "#get items\n",
    "details={\"name\":\"wastefellow\",\"agee\":16,}\n",
    "print(details.get(\"name\"))\n",
    "print(details[\"name\"])"
   ]
  },
  {
   "cell_type": "code",
   "execution_count": 79,
   "id": "7114eeea-0b49-41f5-ac49-47cd02e80ba4",
   "metadata": {},
   "outputs": [
    {
     "name": "stdout",
     "output_type": "stream",
     "text": [
      "{'name': 'darshan', 'agee': 16}\n"
     ]
    }
   ],
   "source": [
    "#set items\n",
    "details={\"name\":\"wastefellow\",\"agee\":16,}\n",
    "# print(details.set(\"name\"))\n",
    "details[\"name\"]=\"darshan\"\n",
    "print(details)"
   ]
  },
  {
   "cell_type": "code",
   "execution_count": 92,
   "id": "b3191d27-f30d-4913-9f5e-447942b9c3cc",
   "metadata": {},
   "outputs": [
    {
     "name": "stdin",
     "output_type": "stream",
     "text": [
      "enter a kwy v= \"jnhjnk\"\n",
      "enter a value v= \"mlkm\"\n"
     ]
    },
    {
     "ename": "NameError",
     "evalue": "name 'dict11' is not defined",
     "output_type": "error",
     "traceback": [
      "\u001b[1;31m---------------------------------------------------------------------------\u001b[0m",
      "\u001b[1;31mNameError\u001b[0m                                 Traceback (most recent call last)",
      "Cell \u001b[1;32mIn[92], line 8\u001b[0m\n\u001b[0;32m      3\u001b[0m dic11\u001b[38;5;241m=\u001b[39m{\u001b[38;5;124m\"\u001b[39m\u001b[38;5;124mkey1\u001b[39m\u001b[38;5;124m\"\u001b[39m:\u001b[38;5;124m\"\u001b[39m\u001b[38;5;124mval1\u001b[39m\u001b[38;5;124m\"\u001b[39m}\n\u001b[0;32m      4\u001b[0m \u001b[38;5;66;03m# key1=(input(\"enter a kwy v=\"))\u001b[39;00m\n\u001b[0;32m      5\u001b[0m \u001b[38;5;66;03m# val1=(input(\"enter a value v=\"))\u001b[39;00m\n\u001b[0;32m      6\u001b[0m \u001b[38;5;66;03m#details[\"key1\"]=\"val1\"\u001b[39;00m\n\u001b[0;32m      7\u001b[0m \u001b[38;5;66;03m#dic1.update({\"key1\":\"val1\"})\u001b[39;00m\n\u001b[1;32m----> 8\u001b[0m \u001b[38;5;28mprint\u001b[39m(\u001b[43mdict11\u001b[49m)\n",
      "\u001b[1;31mNameError\u001b[0m: name 'dict11' is not defined"
     ]
    }
   ],
   "source": [
    "key1=(input(\"enter a kwy v=\"))\n",
    "val1=(input(\"enter a value v=\"))\n",
    "dic1={\"key1\":\"val1\"}\n",
    "# key1=(input(\"enter a kwy v=\"))\n",
    "# val1=(input(\"enter a value v=\"))\n",
    "#details[\"key1\"]=\"val1\"\n",
    "#dic1.update({\"key1\":\"val1\"})\n",
    "print(dict1)\n",
    "\n"
   ]
  },
  {
   "cell_type": "code",
   "execution_count": 94,
   "id": "cab05b59-c33e-4300-809e-64b549841811",
   "metadata": {},
   "outputs": [
    {
     "name": "stdin",
     "output_type": "stream",
     "text": [
      "Enter the number of items in the dictionary:  \"dtrdytf\"\n"
     ]
    },
    {
     "ename": "ValueError",
     "evalue": "invalid literal for int() with base 10: '\"dtrdytf\"'",
     "output_type": "error",
     "traceback": [
      "\u001b[1;31m---------------------------------------------------------------------------\u001b[0m",
      "\u001b[1;31mValueError\u001b[0m                                Traceback (most recent call last)",
      "Cell \u001b[1;32mIn[94], line 17\u001b[0m\n\u001b[0;32m     15\u001b[0m \u001b[38;5;66;03m# Main program\u001b[39;00m\n\u001b[0;32m     16\u001b[0m \u001b[38;5;28;01mif\u001b[39;00m \u001b[38;5;18m__name__\u001b[39m \u001b[38;5;241m==\u001b[39m \u001b[38;5;124m\"\u001b[39m\u001b[38;5;124m__main__\u001b[39m\u001b[38;5;124m\"\u001b[39m:\n\u001b[1;32m---> 17\u001b[0m     user_dict \u001b[38;5;241m=\u001b[39m \u001b[43minput_dict\u001b[49m\u001b[43m(\u001b[49m\u001b[43m)\u001b[49m\n\u001b[0;32m     18\u001b[0m     \u001b[38;5;28mprint\u001b[39m(\u001b[38;5;124m\"\u001b[39m\u001b[38;5;124mThe dictionary is:\u001b[39m\u001b[38;5;124m\"\u001b[39m, user_dict)\n\u001b[0;32m     19\u001b[0m     \u001b[38;5;28mprint\u001b[39m(\u001b[38;5;124m\"\u001b[39m\u001b[38;5;124mThe sum of the values is:\u001b[39m\u001b[38;5;124m\"\u001b[39m, sum_dict_values(user_dict))\n",
      "Cell \u001b[1;32mIn[94], line 3\u001b[0m, in \u001b[0;36minput_dict\u001b[1;34m()\u001b[0m\n\u001b[0;32m      2\u001b[0m \u001b[38;5;28;01mdef\u001b[39;00m \u001b[38;5;21minput_dict\u001b[39m():\n\u001b[1;32m----> 3\u001b[0m     n \u001b[38;5;241m=\u001b[39m \u001b[38;5;28;43mint\u001b[39;49m\u001b[43m(\u001b[49m\u001b[38;5;28;43minput\u001b[39;49m\u001b[43m(\u001b[49m\u001b[38;5;124;43m\"\u001b[39;49m\u001b[38;5;124;43mEnter the number of items in the dictionary: \u001b[39;49m\u001b[38;5;124;43m\"\u001b[39;49m\u001b[43m)\u001b[49m\u001b[43m)\u001b[49m\n\u001b[0;32m      4\u001b[0m     my_dict \u001b[38;5;241m=\u001b[39m {}\n\u001b[0;32m      5\u001b[0m     \u001b[38;5;28;01mfor\u001b[39;00m _ \u001b[38;5;129;01min\u001b[39;00m \u001b[38;5;28mrange\u001b[39m(n):\n",
      "\u001b[1;31mValueError\u001b[0m: invalid literal for int() with base 10: '\"dtrdytf\"'"
     ]
    }
   ],
   "source": []
  },
  {
   "cell_type": "code",
   "execution_count": 99,
   "id": "cb3453e4-9c85-4781-a56f-5e4d528206a1",
   "metadata": {},
   "outputs": [
    {
     "name": "stdin",
     "output_type": "stream",
     "text": [
      "Enter the number of items in the dictionary:  2\n",
      "Enter key:  a\n",
      "Enter value:  10\n",
      "Enter key:  c\n",
      "Enter value:  30\n"
     ]
    },
    {
     "name": "stdout",
     "output_type": "stream",
     "text": [
      "The dictionary is: {'a': 10, 'c': 30}\n",
      "The sum of the values is: 40\n"
     ]
    }
   ],
   "source": [
    "# Function to take dictionary input from the user\n",
    "def input_dict():\n",
    "    n = int(input(\"Enter the number of items in the dictionary: \"))\n",
    "    my_dict = {}\n",
    "    for _ in range(n):\n",
    "        key = input(\"Enter key: \")\n",
    "        value = int(input(\"Enter value: \"))\n",
    "        my_dict[key] = value\n",
    "    return my_dict\n",
    "\n",
    "# Function to calculate the sum of dictionary values\n",
    "def sum_dict_values(d):\n",
    "    a=sum(d.values())\n",
    "    return a\n",
    "if __name__ == \"__main__\":\n",
    "    user_dict = input_dict()\n",
    "    print(\"The dictionary is:\", user_dict)\n",
    "    total_sum = sum_dict_values(user_dict)\n",
    "    print(\"The sum of the values is:\", total_sum)\n",
    "\n"
   ]
  },
  {
   "cell_type": "code",
   "execution_count": 104,
   "id": "4998acec-84bb-43fb-82df-12d86505c162",
   "metadata": {},
   "outputs": [
    {
     "name": "stdin",
     "output_type": "stream",
     "text": [
      "enter the dictionary {\"a\":20,\"b\":30}\n"
     ]
    },
    {
     "name": "stdout",
     "output_type": "stream",
     "text": [
      "{'a': 20, 'b': 30}\n",
      "dict_values([20, 30])\n",
      "50\n"
     ]
    }
   ],
   "source": [
    "dict=eval(input(\"enter the dictionary\"))\n",
    "print(dict)\n",
    "c=dict.values()\n",
    "print(c)\n",
    "\n",
    "b=sum(dict.values())\n",
    "print(b)\n"
   ]
  },
  {
   "cell_type": "code",
   "execution_count": 112,
   "id": "7bad6a3e-ce46-4876-8921-c20b092433e1",
   "metadata": {},
   "outputs": [
    {
     "ename": "TypeError",
     "evalue": "'dict' object is not callable",
     "output_type": "error",
     "traceback": [
      "\u001b[1;31m---------------------------------------------------------------------------\u001b[0m",
      "\u001b[1;31mTypeError\u001b[0m                                 Traceback (most recent call last)",
      "Cell \u001b[1;32mIn[112], line 4\u001b[0m\n\u001b[0;32m      2\u001b[0m k10\u001b[38;5;241m=\u001b[39m [\u001b[38;5;124m'\u001b[39m\u001b[38;5;124mTen\u001b[39m\u001b[38;5;124m'\u001b[39m, \u001b[38;5;124m'\u001b[39m\u001b[38;5;124mTwenty\u001b[39m\u001b[38;5;124m'\u001b[39m, \u001b[38;5;124m'\u001b[39m\u001b[38;5;124mThirty\u001b[39m\u001b[38;5;124m'\u001b[39m]\n\u001b[0;32m      3\u001b[0m v10 \u001b[38;5;241m=\u001b[39m [\u001b[38;5;241m10\u001b[39m, \u001b[38;5;241m20\u001b[39m, \u001b[38;5;241m30\u001b[39m]\n\u001b[1;32m----> 4\u001b[0m my_dict7\u001b[38;5;241m=\u001b[39m \u001b[38;5;28;43mdict\u001b[39;49m\u001b[43m(\u001b[49m\u001b[38;5;28;43mzip\u001b[39;49m\u001b[43m(\u001b[49m\u001b[43mk10\u001b[49m\u001b[43m,\u001b[49m\u001b[43mv10\u001b[49m\u001b[43m)\u001b[49m\u001b[43m)\u001b[49m\n\u001b[0;32m      5\u001b[0m \u001b[38;5;28mprint\u001b[39m(my_dict7)  \u001b[38;5;66;03m# Output: {'Ten': 10, 'Twenty': 20, 'Thirty': 30}\u001b[39;00m\n",
      "\u001b[1;31mTypeError\u001b[0m: 'dict' object is not callable"
     ]
    }
   ],
   "source": [
    "#Convert two lists into a dictionary.\n",
    "k10= ['Ten', 'Twenty', 'Thirty']\n",
    "v10 = [10, 20, 30]\n",
    "my_dict7= dict(zip(k10,v10))\n",
    "print(my_dict7)  # Output: {'Ten': 10, 'Twenty': 20, 'Thirty': 30}\n",
    "\n"
   ]
  },
  {
   "cell_type": "code",
   "execution_count": 110,
   "id": "a9828b75-8de4-41fc-aa2f-7389f5fa7fa5",
   "metadata": {},
   "outputs": [
    {
     "ename": "TypeError",
     "evalue": "'dict' object is not callable",
     "output_type": "error",
     "traceback": [
      "\u001b[1;31m---------------------------------------------------------------------------\u001b[0m",
      "\u001b[1;31mTypeError\u001b[0m                                 Traceback (most recent call last)",
      "Cell \u001b[1;32mIn[110], line 4\u001b[0m\n\u001b[0;32m      2\u001b[0m k7\u001b[38;5;241m=\u001b[39m[\u001b[38;5;124m\"\u001b[39m\u001b[38;5;124mname\u001b[39m\u001b[38;5;124m\"\u001b[39m,\u001b[38;5;124m\"\u001b[39m\u001b[38;5;124mclass\u001b[39m\u001b[38;5;124m\"\u001b[39m,\u001b[38;5;124m\"\u001b[39m\u001b[38;5;124mage\u001b[39m\u001b[38;5;124m\"\u001b[39m]\n\u001b[0;32m      3\u001b[0m v7\u001b[38;5;241m=\u001b[39m[\u001b[38;5;241m101\u001b[39m,\u001b[38;5;241m102\u001b[39m,\u001b[38;5;241m103\u001b[39m]\n\u001b[1;32m----> 4\u001b[0m dictvv\u001b[38;5;241m=\u001b[39m\u001b[38;5;28;43mdict\u001b[39;49m\u001b[43m(\u001b[49m\u001b[38;5;28;43mzip\u001b[39;49m\u001b[43m(\u001b[49m\u001b[43mk7\u001b[49m\u001b[43m,\u001b[49m\u001b[43mv7\u001b[49m\u001b[43m)\u001b[49m\u001b[43m)\u001b[49m\n\u001b[0;32m      5\u001b[0m \u001b[38;5;28mprint\u001b[39m(\u001b[38;5;124m\"\u001b[39m\u001b[38;5;124myour dictionary is=\u001b[39m\u001b[38;5;124m\"\u001b[39m,dictvv)\n",
      "\u001b[1;31mTypeError\u001b[0m: 'dict' object is not callable"
     ]
    }
   ],
   "source": [
    "#Convert two lists into a dictionary.\n",
    "k7=[\"name\",\"class\",\"age\"]\n",
    "v7=[101,102,103]\n",
    "dictvv=dict(zip(k7,v7))\n",
    "print(\"your dictionary is=\",dictvv)"
   ]
  },
  {
   "cell_type": "code",
   "execution_count": 113,
   "id": "7bad79f0-f077-460f-8ae3-c6b52a5be5dc",
   "metadata": {},
   "outputs": [
    {
     "ename": "TypeError",
     "evalue": "'dict' object is not callable",
     "output_type": "error",
     "traceback": [
      "\u001b[1;31m---------------------------------------------------------------------------\u001b[0m",
      "\u001b[1;31mTypeError\u001b[0m                                 Traceback (most recent call last)",
      "Cell \u001b[1;32mIn[113], line 4\u001b[0m\n\u001b[0;32m      2\u001b[0m k10 \u001b[38;5;241m=\u001b[39m [\u001b[38;5;124m'\u001b[39m\u001b[38;5;124mTen\u001b[39m\u001b[38;5;124m'\u001b[39m, \u001b[38;5;124m'\u001b[39m\u001b[38;5;124mTwenty\u001b[39m\u001b[38;5;124m'\u001b[39m, \u001b[38;5;124m'\u001b[39m\u001b[38;5;124mThirty\u001b[39m\u001b[38;5;124m'\u001b[39m]\n\u001b[0;32m      3\u001b[0m v10 \u001b[38;5;241m=\u001b[39m [\u001b[38;5;241m10\u001b[39m, \u001b[38;5;241m20\u001b[39m, \u001b[38;5;241m30\u001b[39m]\n\u001b[1;32m----> 4\u001b[0m my_dict7 \u001b[38;5;241m=\u001b[39m \u001b[38;5;28;43mdict\u001b[39;49m\u001b[43m(\u001b[49m\u001b[38;5;28;43mzip\u001b[39;49m\u001b[43m(\u001b[49m\u001b[43mk10\u001b[49m\u001b[43m,\u001b[49m\u001b[43m \u001b[49m\u001b[43mv10\u001b[49m\u001b[43m)\u001b[49m\u001b[43m)\u001b[49m\n\u001b[0;32m      5\u001b[0m \u001b[38;5;28mprint\u001b[39m(my_dict7)  \u001b[38;5;66;03m# Output: {'Ten': 10, 'Twenty': 20, 'Thirty': 30}\u001b[39;00m\n",
      "\u001b[1;31mTypeError\u001b[0m: 'dict' object is not callable"
     ]
    }
   ],
   "source": [
    "# Ensure no variable is named 'dict'\n",
    "k10 = ['Ten', 'Twenty', 'Thirty']\n",
    "v10 = [10, 20, 30]\n",
    "my_dict7 = dict(zip(k10, v10))\n",
    "print(my_dict7)  # Output: {'Ten': 10, 'Twenty': 20, 'Thirty': 30}\n"
   ]
  },
  {
   "cell_type": "code",
   "execution_count": 121,
   "id": "c6b597f9-dd51-44e4-9761-398e81f00985",
   "metadata": {},
   "outputs": [
    {
     "name": "stdout",
     "output_type": "stream",
     "text": [
      "a key founded in your text\n"
     ]
    }
   ],
   "source": [
    "person={\"a\":1,\"b\":2,\"c\":4}\n",
    "text=\"a\"\n",
    "if text in person:\n",
    "    print(f\"{text} key founded in your text\")\n",
    "else:\n",
    "     print(f\"{text} key not founded in your text\")\n"
   ]
  },
  {
   "cell_type": "code",
   "execution_count": 122,
   "id": "745c8b31-72de-4bf1-a931-5302074a2854",
   "metadata": {},
   "outputs": [
    {
     "name": "stdout",
     "output_type": "stream",
     "text": [
      "c\n"
     ]
    }
   ],
   "source": [
    "my_dict = {'a': 10, 'b': 20, 'c': 5}\n",
    "min_key = min(my_dict, key=my_dict.get)\n",
    "print(min_key)  # Output: 'c'\n"
   ]
  },
  {
   "cell_type": "code",
   "execution_count": 124,
   "id": "fd986164-a8a7-4f4c-9e02-54e9d5d5e10a",
   "metadata": {},
   "outputs": [
    {
     "name": "stdout",
     "output_type": "stream",
     "text": [
      "{'m': {'s1': {'ghv': 2}}}\n"
     ]
    }
   ],
   "source": [
    "sai={\"m\":\n",
    "     {\"s1\":\n",
    "      {\"ghv\":2\n",
    "      }\n",
    "     }\n",
    "    }\n",
    "print(sai)"
   ]
  },
  {
   "cell_type": "code",
   "execution_count": 126,
   "id": "b07655af-24db-4d9b-bc9f-4e6e1a514cb9",
   "metadata": {},
   "outputs": [
    {
     "name": "stdin",
     "output_type": "stream",
     "text": [
      "ENTER THE STRING= hjbjhb\n"
     ]
    },
    {
     "name": "stdout",
     "output_type": "stream",
     "text": [
      "h\n",
      "j\n",
      "b\n",
      "j\n",
      "h\n",
      "b\n"
     ]
    }
   ],
   "source": [
    "str=input(\"ENTER THE STRING=\")\n",
    "for i in str:\n",
    "    print(i)"
   ]
  },
  {
   "cell_type": "code",
   "execution_count": 129,
   "id": "107e7c2d-46ab-45a9-87f6-94cb607ddcda",
   "metadata": {},
   "outputs": [
    {
     "name": "stdin",
     "output_type": "stream",
     "text": [
      "ENTER THE STRING= sai vikas\n"
     ]
    },
    {
     "name": "stdout",
     "output_type": "stream",
     "text": [
      "2\n"
     ]
    }
   ],
   "source": [
    "str1=input(\"ENTER THE STRING=\")\n",
    "print(str1.count(\"a\"))\n"
   ]
  },
  {
   "cell_type": "code",
   "execution_count": 130,
   "id": "7e0a474d-4a96-443a-9ebc-a509b92a907f",
   "metadata": {},
   "outputs": [
    {
     "name": "stdout",
     "output_type": "stream",
     "text": [
      "hh\n"
     ]
    }
   ],
   "source": [
    "bag={\"darshan\":\"hh\",\"class\":\"oij\"}\n",
    "h=bag.get(\"darshan\")\n",
    "print(h)\n",
    "# print(bag.get(\"darshan\"))"
   ]
  },
  {
   "cell_type": "code",
   "execution_count": 136,
   "id": "3bb08343-5406-4bef-b717-0f6b2065ffb1",
   "metadata": {},
   "outputs": [
    {
     "name": "stdin",
     "output_type": "stream",
     "text": [
      "ENTER THE WORD= uidtj\n"
     ]
    },
    {
     "name": "stdout",
     "output_type": "stream",
     "text": [
      "{'u': 1, 'i': 1, 'd': 1, 't': 1, 'j': 1}\n"
     ]
    }
   ],
   "source": [
    "word=input(\"ENTER THE WORD=\")\n",
    "d={}\n",
    "for i in word:\n",
    "    if i in d:\n",
    "        d[i]+=1\n",
    "        #print(i)\n",
    "    else:\n",
    "        d[i]=1\n",
    "        #print(i)\n",
    "print(d)"
   ]
  },
  {
   "cell_type": "code",
   "execution_count": null,
   "id": "d18d055c-6eca-4fa8-945f-a096c622ac4e",
   "metadata": {},
   "outputs": [],
   "source": [
    "def count_letters(input_string):\n",
    "    # Create an empty dictionary to store the count of each letter\n",
    "    letter_count = {}\n",
    "\n",
    "    # Iterate over each character in the string\n",
    "    for char in input_string:\n",
    "        # If the character is already in the dictionary, increment its count\n",
    "        if char in letter_count:\n",
    "            letter_count[char] += 1\n",
    "        # If the character is not in the dictionary, add it with a count of 1\n",
    "        else:\n",
    "            letter_count[char] = 1\n",
    "\n",
    "    return letter_count\n",
    "\n",
    "# Example usage\n",
    "input_string = \"hello world\"\n",
    "result = count_letters(input_string)\n",
    "print(result)\n"
   ]
  }
 ],
 "metadata": {
  "kernelspec": {
   "display_name": "Python 3 (ipykernel)",
   "language": "python",
   "name": "python3"
  },
  "language_info": {
   "codemirror_mode": {
    "name": "ipython",
    "version": 3
   },
   "file_extension": ".py",
   "mimetype": "text/x-python",
   "name": "python",
   "nbconvert_exporter": "python",
   "pygments_lexer": "ipython3",
   "version": "3.13.1"
  }
 },
 "nbformat": 4,
 "nbformat_minor": 5
}
