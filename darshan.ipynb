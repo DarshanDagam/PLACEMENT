{
 "cells": [
  {
   "cell_type": "code",
   "execution_count": 3,
   "id": "c3c70d62-689b-4f38-ad10-0c4a091a8824",
   "metadata": {},
   "outputs": [
    {
     "name": "stdout",
     "output_type": "stream",
     "text": [
      "om namasivaya\n"
     ]
    }
   ],
   "source": [
    "print(\"om namasivaya\")"
   ]
  },
  {
   "cell_type": "code",
   "execution_count": null,
   "id": "37b4cd9c-9e37-45f2-bc73-222f18b151db",
   "metadata": {},
   "outputs": [],
   "source": []
  }
 ],
 "metadata": {
  "kernelspec": {
   "display_name": "Python 3 (ipykernel)",
   "language": "python",
   "name": "python3"
  },
  "language_info": {
   "codemirror_mode": {
    "name": "ipython",
    "version": 3
   },
   "file_extension": ".py",
   "mimetype": "text/x-python",
   "name": "python",
   "nbconvert_exporter": "python",
   "pygments_lexer": "ipython3",
   "version": "3.13.1"
  }
 },
 "nbformat": 4,
 "nbformat_minor": 5
}
